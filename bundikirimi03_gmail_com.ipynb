{
  "cells": [
    {
      "cell_type": "markdown",
      "id": "12cf642a",
      "metadata": {
        "id": "12cf642a"
      },
      "source": [
        "Link two datasets\n",
        "=================\n",
        "\n",
        "Introduction\n",
        "------------"
      ]
    },
    {
      "cell_type": "code",
      "source": [
        "!pip install recordlinkage"
      ],
      "metadata": {
        "colab": {
          "base_uri": "https://localhost:8080/"
        },
        "id": "5h1LVir9MVmo",
        "outputId": "1b93c6d6-0793-41cd-d776-35354140e04a"
      },
      "id": "5h1LVir9MVmo",
      "execution_count": null,
      "outputs": [
        {
          "output_type": "stream",
          "name": "stdout",
          "text": [
            "Requirement already satisfied: recordlinkage in /usr/local/lib/python3.7/dist-packages (0.15)\n",
            "Requirement already satisfied: scikit-learn>=0.19.0 in /usr/local/lib/python3.7/dist-packages (from recordlinkage) (1.0.2)\n",
            "Requirement already satisfied: jellyfish>=0.8.0 in /usr/local/lib/python3.7/dist-packages (from recordlinkage) (0.9.0)\n",
            "Requirement already satisfied: joblib in /usr/local/lib/python3.7/dist-packages (from recordlinkage) (1.1.0)\n",
            "Requirement already satisfied: scipy>=1 in /usr/local/lib/python3.7/dist-packages (from recordlinkage) (1.4.1)\n",
            "Requirement already satisfied: numpy>=1.13.0 in /usr/local/lib/python3.7/dist-packages (from recordlinkage) (1.21.6)\n",
            "Requirement already satisfied: pandas<2,>=1 in /usr/local/lib/python3.7/dist-packages (from recordlinkage) (1.3.5)\n",
            "Requirement already satisfied: python-dateutil>=2.7.3 in /usr/local/lib/python3.7/dist-packages (from pandas<2,>=1->recordlinkage) (2.8.2)\n",
            "Requirement already satisfied: pytz>=2017.3 in /usr/local/lib/python3.7/dist-packages (from pandas<2,>=1->recordlinkage) (2022.1)\n",
            "Requirement already satisfied: six>=1.5 in /usr/local/lib/python3.7/dist-packages (from python-dateutil>=2.7.3->pandas<2,>=1->recordlinkage) (1.15.0)\n",
            "Requirement already satisfied: threadpoolctl>=2.0.0 in /usr/local/lib/python3.7/dist-packages (from scikit-learn>=0.19.0->recordlinkage) (3.1.0)\n"
          ]
        }
      ]
    },
    {
      "cell_type": "code",
      "source": [
        "import numpy as np\n",
        "import pandas as pd\n",
        "import nltk\n",
        "# nltk.download()\n",
        "dir(nltk)"
      ],
      "metadata": {
        "colab": {
          "base_uri": "https://localhost:8080/"
        },
        "id": "XVl6d70jMIQ6",
        "outputId": "40d15e39-7204-446d-a23e-e28c52acf64e"
      },
      "id": "XVl6d70jMIQ6",
      "execution_count": null,
      "outputs": [
        {
          "output_type": "execute_result",
          "data": {
            "text/plain": [
              "['AbstractLazySequence',\n",
              " 'AffixTagger',\n",
              " 'AlignedSent',\n",
              " 'Alignment',\n",
              " 'AnnotationTask',\n",
              " 'ApplicationExpression',\n",
              " 'Assignment',\n",
              " 'BigramAssocMeasures',\n",
              " 'BigramCollocationFinder',\n",
              " 'BigramTagger',\n",
              " 'BinaryMaxentFeatureEncoding',\n",
              " 'BlanklineTokenizer',\n",
              " 'BllipParser',\n",
              " 'BottomUpChartParser',\n",
              " 'BottomUpLeftCornerChartParser',\n",
              " 'BottomUpProbabilisticChartParser',\n",
              " 'Boxer',\n",
              " 'BrillTagger',\n",
              " 'BrillTaggerTrainer',\n",
              " 'CFG',\n",
              " 'CRFTagger',\n",
              " 'CfgReadingCommand',\n",
              " 'ChartParser',\n",
              " 'ChunkParserI',\n",
              " 'ChunkScore',\n",
              " 'ClassifierBasedPOSTagger',\n",
              " 'ClassifierBasedTagger',\n",
              " 'ClassifierI',\n",
              " 'ConcordanceIndex',\n",
              " 'ConditionalExponentialClassifier',\n",
              " 'ConditionalFreqDist',\n",
              " 'ConditionalProbDist',\n",
              " 'ConditionalProbDistI',\n",
              " 'ConfusionMatrix',\n",
              " 'ContextIndex',\n",
              " 'ContextTagger',\n",
              " 'ContingencyMeasures',\n",
              " 'CoreNLPDependencyParser',\n",
              " 'CoreNLPParser',\n",
              " 'Counter',\n",
              " 'CrossValidationProbDist',\n",
              " 'DRS',\n",
              " 'DecisionTreeClassifier',\n",
              " 'DefaultTagger',\n",
              " 'DependencyEvaluator',\n",
              " 'DependencyGrammar',\n",
              " 'DependencyGraph',\n",
              " 'DependencyProduction',\n",
              " 'DictionaryConditionalProbDist',\n",
              " 'DictionaryProbDist',\n",
              " 'DiscourseTester',\n",
              " 'DrtExpression',\n",
              " 'DrtGlueReadingCommand',\n",
              " 'ELEProbDist',\n",
              " 'EarleyChartParser',\n",
              " 'Expression',\n",
              " 'FStructure',\n",
              " 'FeatDict',\n",
              " 'FeatList',\n",
              " 'FeatStruct',\n",
              " 'FeatStructReader',\n",
              " 'Feature',\n",
              " 'FeatureBottomUpChartParser',\n",
              " 'FeatureBottomUpLeftCornerChartParser',\n",
              " 'FeatureChartParser',\n",
              " 'FeatureEarleyChartParser',\n",
              " 'FeatureIncrementalBottomUpChartParser',\n",
              " 'FeatureIncrementalBottomUpLeftCornerChartParser',\n",
              " 'FeatureIncrementalChartParser',\n",
              " 'FeatureIncrementalTopDownChartParser',\n",
              " 'FeatureTopDownChartParser',\n",
              " 'FreqDist',\n",
              " 'HTTPPasswordMgrWithDefaultRealm',\n",
              " 'HeldoutProbDist',\n",
              " 'HiddenMarkovModelTagger',\n",
              " 'HiddenMarkovModelTrainer',\n",
              " 'HunposTagger',\n",
              " 'IBMModel',\n",
              " 'IBMModel1',\n",
              " 'IBMModel2',\n",
              " 'IBMModel3',\n",
              " 'IBMModel4',\n",
              " 'IBMModel5',\n",
              " 'ISRIStemmer',\n",
              " 'ImmutableMultiParentedTree',\n",
              " 'ImmutableParentedTree',\n",
              " 'ImmutableProbabilisticMixIn',\n",
              " 'ImmutableProbabilisticTree',\n",
              " 'ImmutableTree',\n",
              " 'IncrementalBottomUpChartParser',\n",
              " 'IncrementalBottomUpLeftCornerChartParser',\n",
              " 'IncrementalChartParser',\n",
              " 'IncrementalLeftCornerChartParser',\n",
              " 'IncrementalTopDownChartParser',\n",
              " 'Index',\n",
              " 'InsideChartParser',\n",
              " 'JSONTaggedDecoder',\n",
              " 'JSONTaggedEncoder',\n",
              " 'KneserNeyProbDist',\n",
              " 'LancasterStemmer',\n",
              " 'LaplaceProbDist',\n",
              " 'LazyConcatenation',\n",
              " 'LazyEnumerate',\n",
              " 'LazyIteratorList',\n",
              " 'LazyMap',\n",
              " 'LazySubsequence',\n",
              " 'LazyZip',\n",
              " 'LeftCornerChartParser',\n",
              " 'LidstoneProbDist',\n",
              " 'LineTokenizer',\n",
              " 'LogicalExpressionException',\n",
              " 'LongestChartParser',\n",
              " 'MLEProbDist',\n",
              " 'MWETokenizer',\n",
              " 'Mace',\n",
              " 'MaceCommand',\n",
              " 'MaltParser',\n",
              " 'MaxentClassifier',\n",
              " 'Model',\n",
              " 'MultiClassifierI',\n",
              " 'MultiParentedTree',\n",
              " 'MutableProbDist',\n",
              " 'NaiveBayesClassifier',\n",
              " 'NaiveBayesDependencyScorer',\n",
              " 'NgramAssocMeasures',\n",
              " 'NgramTagger',\n",
              " 'NonprojectiveDependencyParser',\n",
              " 'Nonterminal',\n",
              " 'OrderedDict',\n",
              " 'PCFG',\n",
              " 'Paice',\n",
              " 'ParallelProverBuilder',\n",
              " 'ParallelProverBuilderCommand',\n",
              " 'ParentedTree',\n",
              " 'ParserI',\n",
              " 'PerceptronTagger',\n",
              " 'PhraseTable',\n",
              " 'PorterStemmer',\n",
              " 'PositiveNaiveBayesClassifier',\n",
              " 'ProbDistI',\n",
              " 'ProbabilisticDependencyGrammar',\n",
              " 'ProbabilisticMixIn',\n",
              " 'ProbabilisticNonprojectiveParser',\n",
              " 'ProbabilisticProduction',\n",
              " 'ProbabilisticProjectiveDependencyParser',\n",
              " 'ProbabilisticTree',\n",
              " 'Production',\n",
              " 'ProjectiveDependencyParser',\n",
              " 'Prover9',\n",
              " 'Prover9Command',\n",
              " 'ProxyBasicAuthHandler',\n",
              " 'ProxyDigestAuthHandler',\n",
              " 'ProxyHandler',\n",
              " 'PunktSentenceTokenizer',\n",
              " 'QuadgramCollocationFinder',\n",
              " 'RSLPStemmer',\n",
              " 'RTEFeatureExtractor',\n",
              " 'RUS_PICKLE',\n",
              " 'RandomChartParser',\n",
              " 'RangeFeature',\n",
              " 'ReadingCommand',\n",
              " 'RecursiveDescentParser',\n",
              " 'RegexpChunkParser',\n",
              " 'RegexpParser',\n",
              " 'RegexpStemmer',\n",
              " 'RegexpTagger',\n",
              " 'RegexpTokenizer',\n",
              " 'ReppTokenizer',\n",
              " 'ResolutionProver',\n",
              " 'ResolutionProverCommand',\n",
              " 'SExprTokenizer',\n",
              " 'SLASH',\n",
              " 'Senna',\n",
              " 'SennaChunkTagger',\n",
              " 'SennaNERTagger',\n",
              " 'SennaTagger',\n",
              " 'SequentialBackoffTagger',\n",
              " 'ShiftReduceParser',\n",
              " 'SimpleGoodTuringProbDist',\n",
              " 'SklearnClassifier',\n",
              " 'SlashFeature',\n",
              " 'SnowballStemmer',\n",
              " 'SpaceTokenizer',\n",
              " 'StackDecoder',\n",
              " 'StanfordNERTagger',\n",
              " 'StanfordPOSTagger',\n",
              " 'StanfordSegmenter',\n",
              " 'StanfordTagger',\n",
              " 'StemmerI',\n",
              " 'SteppingChartParser',\n",
              " 'SteppingRecursiveDescentParser',\n",
              " 'SteppingShiftReduceParser',\n",
              " 'TYPE',\n",
              " 'TabTokenizer',\n",
              " 'TableauProver',\n",
              " 'TableauProverCommand',\n",
              " 'TaggerI',\n",
              " 'TestGrammar',\n",
              " 'Text',\n",
              " 'TextCat',\n",
              " 'TextCollection',\n",
              " 'TextTilingTokenizer',\n",
              " 'TnT',\n",
              " 'TokenSearcher',\n",
              " 'ToktokTokenizer',\n",
              " 'TopDownChartParser',\n",
              " 'TransitionParser',\n",
              " 'Tree',\n",
              " 'TreebankWordTokenizer',\n",
              " 'Trie',\n",
              " 'TrigramAssocMeasures',\n",
              " 'TrigramCollocationFinder',\n",
              " 'TrigramTagger',\n",
              " 'TweetTokenizer',\n",
              " 'TypedMaxentFeatureEncoding',\n",
              " 'Undefined',\n",
              " 'UniformProbDist',\n",
              " 'UnigramTagger',\n",
              " 'UnsortedChartParser',\n",
              " 'Valuation',\n",
              " 'Variable',\n",
              " 'ViterbiParser',\n",
              " 'WekaClassifier',\n",
              " 'WhitespaceTokenizer',\n",
              " 'WittenBellProbDist',\n",
              " 'WordNetLemmatizer',\n",
              " 'WordPunctTokenizer',\n",
              " '__author__',\n",
              " '__author_email__',\n",
              " '__builtins__',\n",
              " '__cached__',\n",
              " '__classifiers__',\n",
              " '__copyright__',\n",
              " '__doc__',\n",
              " '__file__',\n",
              " '__keywords__',\n",
              " '__license__',\n",
              " '__loader__',\n",
              " '__longdescr__',\n",
              " '__maintainer__',\n",
              " '__maintainer_email__',\n",
              " '__name__',\n",
              " '__package__',\n",
              " '__path__',\n",
              " '__spec__',\n",
              " '__url__',\n",
              " '__version__',\n",
              " 'absolute_import',\n",
              " 'accuracy',\n",
              " 'add_logs',\n",
              " 'agreement',\n",
              " 'align',\n",
              " 'alignment_error_rate',\n",
              " 'aline',\n",
              " 'api',\n",
              " 'app',\n",
              " 'apply_features',\n",
              " 'approxrand',\n",
              " 'arity',\n",
              " 'association',\n",
              " 'bigrams',\n",
              " 'binary_distance',\n",
              " 'binary_search_file',\n",
              " 'binding_ops',\n",
              " 'bisect',\n",
              " 'blankline_tokenize',\n",
              " 'bleu',\n",
              " 'bleu_score',\n",
              " 'bllip',\n",
              " 'boolean_ops',\n",
              " 'boxer',\n",
              " 'bracket_parse',\n",
              " 'breadth_first',\n",
              " 'brill',\n",
              " 'brill_trainer',\n",
              " 'build_opener',\n",
              " 'call_megam',\n",
              " 'casual',\n",
              " 'casual_tokenize',\n",
              " 'ccg',\n",
              " 'chain',\n",
              " 'chart',\n",
              " 'chat',\n",
              " 'choose',\n",
              " 'chunk',\n",
              " 'class_types',\n",
              " 'classify',\n",
              " 'clause',\n",
              " 'clean_html',\n",
              " 'clean_url',\n",
              " 'cluster',\n",
              " 'collections',\n",
              " 'collocations',\n",
              " 'combinations',\n",
              " 'compat',\n",
              " 'config_java',\n",
              " 'config_megam',\n",
              " 'config_weka',\n",
              " 'conflicts',\n",
              " 'confusionmatrix',\n",
              " 'conllstr2tree',\n",
              " 'conlltags2tree',\n",
              " 'corenlp',\n",
              " 'corpus',\n",
              " 'crf',\n",
              " 'custom_distance',\n",
              " 'data',\n",
              " 'decisiontree',\n",
              " 'decorator',\n",
              " 'decorators',\n",
              " 'defaultdict',\n",
              " 'demo',\n",
              " 'dependencygraph',\n",
              " 'deque',\n",
              " 'discourse',\n",
              " 'distance',\n",
              " 'download',\n",
              " 'download_gui',\n",
              " 'download_shell',\n",
              " 'downloader',\n",
              " 'draw',\n",
              " 'drt',\n",
              " 'earleychart',\n",
              " 'edit_distance',\n",
              " 'elementtree_indent',\n",
              " 'entropy',\n",
              " 'equality_preds',\n",
              " 'evaluate',\n",
              " 'evaluate_sents',\n",
              " 'everygrams',\n",
              " 'extract_rels',\n",
              " 'extract_test_sentences',\n",
              " 'f_measure',\n",
              " 'featstruct',\n",
              " 'featurechart',\n",
              " 'filestring',\n",
              " 'find',\n",
              " 'flatten',\n",
              " 'fractional_presence',\n",
              " 'getproxies',\n",
              " 'ghd',\n",
              " 'glue',\n",
              " 'grammar',\n",
              " 'guess_encoding',\n",
              " 'help',\n",
              " 'hmm',\n",
              " 'hunpos',\n",
              " 'ibm1',\n",
              " 'ibm2',\n",
              " 'ibm3',\n",
              " 'ibm4',\n",
              " 'ibm5',\n",
              " 'ibm_model',\n",
              " 'ieerstr2tree',\n",
              " 'improved_close_quote_regex',\n",
              " 'improved_open_quote_regex',\n",
              " 'improved_punct_regex',\n",
              " 'in_idle',\n",
              " 'induce_pcfg',\n",
              " 'inference',\n",
              " 'infile',\n",
              " 'inspect',\n",
              " 'install_opener',\n",
              " 'internals',\n",
              " 'interpret_sents',\n",
              " 'interval_distance',\n",
              " 'invert_dict',\n",
              " 'invert_graph',\n",
              " 'is_rel',\n",
              " 'islice',\n",
              " 'isri',\n",
              " 'jaccard_distance',\n",
              " 'json_tags',\n",
              " 'jsontags',\n",
              " 'lancaster',\n",
              " 'lazyimport',\n",
              " 'lfg',\n",
              " 'line_tokenize',\n",
              " 'linearlogic',\n",
              " 'load',\n",
              " 'load_parser',\n",
              " 'locale',\n",
              " 'log_likelihood',\n",
              " 'logic',\n",
              " 'mace',\n",
              " 'malt',\n",
              " 'map_tag',\n",
              " 'mapping',\n",
              " 'masi_distance',\n",
              " 'maxent',\n",
              " 'megam',\n",
              " 'memoize',\n",
              " 'metrics',\n",
              " 'misc',\n",
              " 'mwe',\n",
              " 'naivebayes',\n",
              " 'ne_chunk',\n",
              " 'ne_chunk_sents',\n",
              " 'ngrams',\n",
              " 'nonprojectivedependencyparser',\n",
              " 'nonterminals',\n",
              " 'numpy',\n",
              " 'os',\n",
              " 'pad_sequence',\n",
              " 'paice',\n",
              " 'parse',\n",
              " 'parse_sents',\n",
              " 'pchart',\n",
              " 'perceptron',\n",
              " 'pk',\n",
              " 'porter',\n",
              " 'pos_tag',\n",
              " 'pos_tag_sents',\n",
              " 'positivenaivebayes',\n",
              " 'pprint',\n",
              " 'pr',\n",
              " 'precision',\n",
              " 'presence',\n",
              " 'print_function',\n",
              " 'print_string',\n",
              " 'probability',\n",
              " 'projectivedependencyparser',\n",
              " 'prover9',\n",
              " 'punkt',\n",
              " 'py25',\n",
              " 'py26',\n",
              " 'py27',\n",
              " 'pydoc',\n",
              " 'python_2_unicode_compatible',\n",
              " 'raise_unorderable_types',\n",
              " 'ranks_from_scores',\n",
              " 'ranks_from_sequence',\n",
              " 're',\n",
              " 're_show',\n",
              " 'read_grammar',\n",
              " 'read_logic',\n",
              " 'read_valuation',\n",
              " 'recall',\n",
              " 'recursivedescent',\n",
              " 'regexp',\n",
              " 'regexp_span_tokenize',\n",
              " 'regexp_tokenize',\n",
              " 'register_tag',\n",
              " 'relextract',\n",
              " 'repp',\n",
              " 'resolution',\n",
              " 'ribes',\n",
              " 'ribes_score',\n",
              " 'root_semrep',\n",
              " 'rslp',\n",
              " 'rte_classifier',\n",
              " 'rte_classify',\n",
              " 'rte_features',\n",
              " 'rtuple',\n",
              " 'scikitlearn',\n",
              " 'scores',\n",
              " 'segmentation',\n",
              " 'sem',\n",
              " 'senna',\n",
              " 'sent_tokenize',\n",
              " 'sequential',\n",
              " 'set2rel',\n",
              " 'set_proxy',\n",
              " 'sexpr',\n",
              " 'sexpr_tokenize',\n",
              " 'shiftreduce',\n",
              " 'simple',\n",
              " 'sinica_parse',\n",
              " 'skipgrams',\n",
              " 'skolemize',\n",
              " 'slice_bounds',\n",
              " 'snowball',\n",
              " 'spearman',\n",
              " 'spearman_correlation',\n",
              " 'stack_decoder',\n",
              " 'stanford',\n",
              " 'stanford_segmenter',\n",
              " 'stem',\n",
              " 'str2tuple',\n",
              " 'string_span_tokenize',\n",
              " 'string_types',\n",
              " 'subprocess',\n",
              " 'subsumes',\n",
              " 'sum_logs',\n",
              " 'sys',\n",
              " 'tableau',\n",
              " 'tadm',\n",
              " 'tag',\n",
              " 'tagset_mapping',\n",
              " 'tagstr2tree',\n",
              " 'tbl',\n",
              " 'text',\n",
              " 'text_type',\n",
              " 'textcat',\n",
              " 'texttiling',\n",
              " 'textwrap',\n",
              " 'tkinter',\n",
              " 'tnt',\n",
              " 'tokenize',\n",
              " 'tokenwrap',\n",
              " 'toktok',\n",
              " 'toolbox',\n",
              " 'total_ordering',\n",
              " 'transitionparser',\n",
              " 'transitive_closure',\n",
              " 'translate',\n",
              " 'tree',\n",
              " 'tree2conllstr',\n",
              " 'tree2conlltags',\n",
              " 'treebank',\n",
              " 'treetransforms',\n",
              " 'trigrams',\n",
              " 'tuple2str',\n",
              " 'types',\n",
              " 'unify',\n",
              " 'unique_list',\n",
              " 'untag',\n",
              " 'usage',\n",
              " 'util',\n",
              " 'version_file',\n",
              " 'version_info',\n",
              " 'viterbi',\n",
              " 'weka',\n",
              " 'windowdiff',\n",
              " 'word_tokenize',\n",
              " 'wordnet',\n",
              " 'wordpunct_tokenize',\n",
              " 'wsd']"
            ]
          },
          "metadata": {},
          "execution_count": 146
        }
      ]
    },
    {
      "cell_type": "code",
      "execution_count": null,
      "id": "aa80dc6c",
      "metadata": {
        "id": "aa80dc6c"
      },
      "outputs": [],
      "source": [
        "import recordlinkage\n",
        "import numpy as np # linear algebra\n",
        "import pandas as pd # data processing, CSV file I/O (e.g. pd.read_csv)\n",
        "from sklearn.model_selection import train_test_split # function for splitting data to train and test sets\n",
        "\n",
        "import nltk\n",
        "from nltk.corpus import stopwords\n",
        "from nltk.classify import SklearnClassifier\n",
        "\n",
        "from wordcloud import WordCloud,STOPWORDS\n",
        "import matplotlib.pyplot as plt\n",
        "%matplotlib inline\n",
        "\n",
        "# Input data files are available in the \"../input/\" directory.\n",
        "# For example, running this (by clicking run or pressing Shift+Enter) will list the files in the input directory\n",
        "\n",
        "from subprocess import check_output\n",
        "\n"
      ]
    },
    {
      "cell_type": "code",
      "source": [
        "#Loading the datasets\n",
        "\n",
        "dfA= pd.read_csv(\"source_1.csv\", sep=\",\",encoding='UTF-8')\n",
        "dfB = pd.read_csv(\"source_2.csv\",sep=\",\",encoding='UTF-8')\n",
        "dfC = pd.read_csv(\"matched_data.csv\",sep=\",\",encoding='UTF-8')\n",
        "validation=pd.read_csv(\"predicted_matches.csv\",sep=\",\",encoding='UTF-8')"
      ],
      "metadata": {
        "id": "Z5Sq3IuYMRbP"
      },
      "id": "Z5Sq3IuYMRbP",
      "execution_count": null,
      "outputs": []
    },
    {
      "cell_type": "code",
      "source": [
        "dfA.head(3)"
      ],
      "metadata": {
        "colab": {
          "base_uri": "https://localhost:8080/",
          "height": 143
        },
        "id": "AVGUGDQdaTh_",
        "outputId": "dcb26776-2d8b-4412-f7e5-33a6a30df64b"
      },
      "id": "AVGUGDQdaTh_",
      "execution_count": null,
      "outputs": [
        {
          "output_type": "execute_result",
          "data": {
            "text/plain": [
              "   id                                               name\n",
              "0   0  Horses, asses, mules and hinnies; live, pure-b...\n",
              "1   1           Horses; live, pure-bred breeding animals\n",
              "2   2  Horses; live, other than pure-bred breeding an..."
            ],
            "text/html": [
              "\n",
              "  <div id=\"df-63d053c2-abe6-4f7c-a1b4-162826cb24e5\">\n",
              "    <div class=\"colab-df-container\">\n",
              "      <div>\n",
              "<style scoped>\n",
              "    .dataframe tbody tr th:only-of-type {\n",
              "        vertical-align: middle;\n",
              "    }\n",
              "\n",
              "    .dataframe tbody tr th {\n",
              "        vertical-align: top;\n",
              "    }\n",
              "\n",
              "    .dataframe thead th {\n",
              "        text-align: right;\n",
              "    }\n",
              "</style>\n",
              "<table border=\"1\" class=\"dataframe\">\n",
              "  <thead>\n",
              "    <tr style=\"text-align: right;\">\n",
              "      <th></th>\n",
              "      <th>id</th>\n",
              "      <th>name</th>\n",
              "    </tr>\n",
              "  </thead>\n",
              "  <tbody>\n",
              "    <tr>\n",
              "      <th>0</th>\n",
              "      <td>0</td>\n",
              "      <td>Horses, asses, mules and hinnies; live, pure-b...</td>\n",
              "    </tr>\n",
              "    <tr>\n",
              "      <th>1</th>\n",
              "      <td>1</td>\n",
              "      <td>Horses; live, pure-bred breeding animals</td>\n",
              "    </tr>\n",
              "    <tr>\n",
              "      <th>2</th>\n",
              "      <td>2</td>\n",
              "      <td>Horses; live, other than pure-bred breeding an...</td>\n",
              "    </tr>\n",
              "  </tbody>\n",
              "</table>\n",
              "</div>\n",
              "      <button class=\"colab-df-convert\" onclick=\"convertToInteractive('df-63d053c2-abe6-4f7c-a1b4-162826cb24e5')\"\n",
              "              title=\"Convert this dataframe to an interactive table.\"\n",
              "              style=\"display:none;\">\n",
              "        \n",
              "  <svg xmlns=\"http://www.w3.org/2000/svg\" height=\"24px\"viewBox=\"0 0 24 24\"\n",
              "       width=\"24px\">\n",
              "    <path d=\"M0 0h24v24H0V0z\" fill=\"none\"/>\n",
              "    <path d=\"M18.56 5.44l.94 2.06.94-2.06 2.06-.94-2.06-.94-.94-2.06-.94 2.06-2.06.94zm-11 1L8.5 8.5l.94-2.06 2.06-.94-2.06-.94L8.5 2.5l-.94 2.06-2.06.94zm10 10l.94 2.06.94-2.06 2.06-.94-2.06-.94-.94-2.06-.94 2.06-2.06.94z\"/><path d=\"M17.41 7.96l-1.37-1.37c-.4-.4-.92-.59-1.43-.59-.52 0-1.04.2-1.43.59L10.3 9.45l-7.72 7.72c-.78.78-.78 2.05 0 2.83L4 21.41c.39.39.9.59 1.41.59.51 0 1.02-.2 1.41-.59l7.78-7.78 2.81-2.81c.8-.78.8-2.07 0-2.86zM5.41 20L4 18.59l7.72-7.72 1.47 1.35L5.41 20z\"/>\n",
              "  </svg>\n",
              "      </button>\n",
              "      \n",
              "  <style>\n",
              "    .colab-df-container {\n",
              "      display:flex;\n",
              "      flex-wrap:wrap;\n",
              "      gap: 12px;\n",
              "    }\n",
              "\n",
              "    .colab-df-convert {\n",
              "      background-color: #E8F0FE;\n",
              "      border: none;\n",
              "      border-radius: 50%;\n",
              "      cursor: pointer;\n",
              "      display: none;\n",
              "      fill: #1967D2;\n",
              "      height: 32px;\n",
              "      padding: 0 0 0 0;\n",
              "      width: 32px;\n",
              "    }\n",
              "\n",
              "    .colab-df-convert:hover {\n",
              "      background-color: #E2EBFA;\n",
              "      box-shadow: 0px 1px 2px rgba(60, 64, 67, 0.3), 0px 1px 3px 1px rgba(60, 64, 67, 0.15);\n",
              "      fill: #174EA6;\n",
              "    }\n",
              "\n",
              "    [theme=dark] .colab-df-convert {\n",
              "      background-color: #3B4455;\n",
              "      fill: #D2E3FC;\n",
              "    }\n",
              "\n",
              "    [theme=dark] .colab-df-convert:hover {\n",
              "      background-color: #434B5C;\n",
              "      box-shadow: 0px 1px 3px 1px rgba(0, 0, 0, 0.15);\n",
              "      filter: drop-shadow(0px 1px 2px rgba(0, 0, 0, 0.3));\n",
              "      fill: #FFFFFF;\n",
              "    }\n",
              "  </style>\n",
              "\n",
              "      <script>\n",
              "        const buttonEl =\n",
              "          document.querySelector('#df-63d053c2-abe6-4f7c-a1b4-162826cb24e5 button.colab-df-convert');\n",
              "        buttonEl.style.display =\n",
              "          google.colab.kernel.accessAllowed ? 'block' : 'none';\n",
              "\n",
              "        async function convertToInteractive(key) {\n",
              "          const element = document.querySelector('#df-63d053c2-abe6-4f7c-a1b4-162826cb24e5');\n",
              "          const dataTable =\n",
              "            await google.colab.kernel.invokeFunction('convertToInteractive',\n",
              "                                                     [key], {});\n",
              "          if (!dataTable) return;\n",
              "\n",
              "          const docLinkHtml = 'Like what you see? Visit the ' +\n",
              "            '<a target=\"_blank\" href=https://colab.research.google.com/notebooks/data_table.ipynb>data table notebook</a>'\n",
              "            + ' to learn more about interactive tables.';\n",
              "          element.innerHTML = '';\n",
              "          dataTable['output_type'] = 'display_data';\n",
              "          await google.colab.output.renderOutput(dataTable, element);\n",
              "          const docLink = document.createElement('div');\n",
              "          docLink.innerHTML = docLinkHtml;\n",
              "          element.appendChild(docLink);\n",
              "        }\n",
              "      </script>\n",
              "    </div>\n",
              "  </div>\n",
              "  "
            ]
          },
          "metadata": {},
          "execution_count": 149
        }
      ]
    },
    {
      "cell_type": "code",
      "source": [
        "df3 = dfC.rename(columns={\"source_1\":\"feature\", \"source_2\":\"labels\"})\n",
        "\n",
        "df3.head()"
      ],
      "metadata": {
        "colab": {
          "base_uri": "https://localhost:8080/",
          "height": 206
        },
        "id": "9bh5itdTAzRK",
        "outputId": "29afb82f-8ece-4ece-e809-f9e5fa40c521"
      },
      "id": "9bh5itdTAzRK",
      "execution_count": null,
      "outputs": [
        {
          "output_type": "execute_result",
          "data": {
            "text/plain": [
              "                                     feature      labels\n",
              "0                            Cereals, barley      barley\n",
              "1            Other fresh or chilled potatoes    potatoes\n",
              "2             Fruit, edible; cherries, fresh    cherries\n",
              "3  Bran, sharps and other residues, of maize  maize bran\n",
              "4                            Cereals, millet     millets"
            ],
            "text/html": [
              "\n",
              "  <div id=\"df-edd12cb3-5745-493f-b901-93e3e6e87c23\">\n",
              "    <div class=\"colab-df-container\">\n",
              "      <div>\n",
              "<style scoped>\n",
              "    .dataframe tbody tr th:only-of-type {\n",
              "        vertical-align: middle;\n",
              "    }\n",
              "\n",
              "    .dataframe tbody tr th {\n",
              "        vertical-align: top;\n",
              "    }\n",
              "\n",
              "    .dataframe thead th {\n",
              "        text-align: right;\n",
              "    }\n",
              "</style>\n",
              "<table border=\"1\" class=\"dataframe\">\n",
              "  <thead>\n",
              "    <tr style=\"text-align: right;\">\n",
              "      <th></th>\n",
              "      <th>feature</th>\n",
              "      <th>labels</th>\n",
              "    </tr>\n",
              "  </thead>\n",
              "  <tbody>\n",
              "    <tr>\n",
              "      <th>0</th>\n",
              "      <td>Cereals, barley</td>\n",
              "      <td>barley</td>\n",
              "    </tr>\n",
              "    <tr>\n",
              "      <th>1</th>\n",
              "      <td>Other fresh or chilled potatoes</td>\n",
              "      <td>potatoes</td>\n",
              "    </tr>\n",
              "    <tr>\n",
              "      <th>2</th>\n",
              "      <td>Fruit, edible; cherries, fresh</td>\n",
              "      <td>cherries</td>\n",
              "    </tr>\n",
              "    <tr>\n",
              "      <th>3</th>\n",
              "      <td>Bran, sharps and other residues, of maize</td>\n",
              "      <td>maize bran</td>\n",
              "    </tr>\n",
              "    <tr>\n",
              "      <th>4</th>\n",
              "      <td>Cereals, millet</td>\n",
              "      <td>millets</td>\n",
              "    </tr>\n",
              "  </tbody>\n",
              "</table>\n",
              "</div>\n",
              "      <button class=\"colab-df-convert\" onclick=\"convertToInteractive('df-edd12cb3-5745-493f-b901-93e3e6e87c23')\"\n",
              "              title=\"Convert this dataframe to an interactive table.\"\n",
              "              style=\"display:none;\">\n",
              "        \n",
              "  <svg xmlns=\"http://www.w3.org/2000/svg\" height=\"24px\"viewBox=\"0 0 24 24\"\n",
              "       width=\"24px\">\n",
              "    <path d=\"M0 0h24v24H0V0z\" fill=\"none\"/>\n",
              "    <path d=\"M18.56 5.44l.94 2.06.94-2.06 2.06-.94-2.06-.94-.94-2.06-.94 2.06-2.06.94zm-11 1L8.5 8.5l.94-2.06 2.06-.94-2.06-.94L8.5 2.5l-.94 2.06-2.06.94zm10 10l.94 2.06.94-2.06 2.06-.94-2.06-.94-.94-2.06-.94 2.06-2.06.94z\"/><path d=\"M17.41 7.96l-1.37-1.37c-.4-.4-.92-.59-1.43-.59-.52 0-1.04.2-1.43.59L10.3 9.45l-7.72 7.72c-.78.78-.78 2.05 0 2.83L4 21.41c.39.39.9.59 1.41.59.51 0 1.02-.2 1.41-.59l7.78-7.78 2.81-2.81c.8-.78.8-2.07 0-2.86zM5.41 20L4 18.59l7.72-7.72 1.47 1.35L5.41 20z\"/>\n",
              "  </svg>\n",
              "      </button>\n",
              "      \n",
              "  <style>\n",
              "    .colab-df-container {\n",
              "      display:flex;\n",
              "      flex-wrap:wrap;\n",
              "      gap: 12px;\n",
              "    }\n",
              "\n",
              "    .colab-df-convert {\n",
              "      background-color: #E8F0FE;\n",
              "      border: none;\n",
              "      border-radius: 50%;\n",
              "      cursor: pointer;\n",
              "      display: none;\n",
              "      fill: #1967D2;\n",
              "      height: 32px;\n",
              "      padding: 0 0 0 0;\n",
              "      width: 32px;\n",
              "    }\n",
              "\n",
              "    .colab-df-convert:hover {\n",
              "      background-color: #E2EBFA;\n",
              "      box-shadow: 0px 1px 2px rgba(60, 64, 67, 0.3), 0px 1px 3px 1px rgba(60, 64, 67, 0.15);\n",
              "      fill: #174EA6;\n",
              "    }\n",
              "\n",
              "    [theme=dark] .colab-df-convert {\n",
              "      background-color: #3B4455;\n",
              "      fill: #D2E3FC;\n",
              "    }\n",
              "\n",
              "    [theme=dark] .colab-df-convert:hover {\n",
              "      background-color: #434B5C;\n",
              "      box-shadow: 0px 1px 3px 1px rgba(0, 0, 0, 0.15);\n",
              "      filter: drop-shadow(0px 1px 2px rgba(0, 0, 0, 0.3));\n",
              "      fill: #FFFFFF;\n",
              "    }\n",
              "  </style>\n",
              "\n",
              "      <script>\n",
              "        const buttonEl =\n",
              "          document.querySelector('#df-edd12cb3-5745-493f-b901-93e3e6e87c23 button.colab-df-convert');\n",
              "        buttonEl.style.display =\n",
              "          google.colab.kernel.accessAllowed ? 'block' : 'none';\n",
              "\n",
              "        async function convertToInteractive(key) {\n",
              "          const element = document.querySelector('#df-edd12cb3-5745-493f-b901-93e3e6e87c23');\n",
              "          const dataTable =\n",
              "            await google.colab.kernel.invokeFunction('convertToInteractive',\n",
              "                                                     [key], {});\n",
              "          if (!dataTable) return;\n",
              "\n",
              "          const docLinkHtml = 'Like what you see? Visit the ' +\n",
              "            '<a target=\"_blank\" href=https://colab.research.google.com/notebooks/data_table.ipynb>data table notebook</a>'\n",
              "            + ' to learn more about interactive tables.';\n",
              "          element.innerHTML = '';\n",
              "          dataTable['output_type'] = 'display_data';\n",
              "          await google.colab.output.renderOutput(dataTable, element);\n",
              "          const docLink = document.createElement('div');\n",
              "          docLink.innerHTML = docLinkHtml;\n",
              "          element.appendChild(docLink);\n",
              "        }\n",
              "      </script>\n",
              "    </div>\n",
              "  </div>\n",
              "  "
            ]
          },
          "metadata": {},
          "execution_count": 150
        }
      ]
    },
    {
      "cell_type": "code",
      "source": [
        "#Lets see unique values in the first dataset\n",
        "dfA['name'].unique()"
      ],
      "metadata": {
        "colab": {
          "base_uri": "https://localhost:8080/"
        },
        "id": "1j0H9oY76Wsb",
        "outputId": "56de0702-4ed4-4a5d-d1d8-7d266feb2529"
      },
      "id": "1j0H9oY76Wsb",
      "execution_count": null,
      "outputs": [
        {
          "output_type": "execute_result",
          "data": {
            "text/plain": [
              "array(['Horses, asses, mules and hinnies; live, pure-bred breeding animals',\n",
              "       'Horses; live, pure-bred breeding animals',\n",
              "       'Horses; live, other than pure-bred breeding animals', ...,\n",
              "       'Oth.cathode-ray tubes', 'Other cathode-ray tubes',\n",
              "       'Tubes for microwaves, magnetrons'], dtype=object)"
            ]
          },
          "metadata": {},
          "execution_count": 151
        }
      ]
    },
    {
      "cell_type": "code",
      "source": [
        "#Lets see unique values in the second dataset\n",
        "dfB['name'].unique()"
      ],
      "metadata": {
        "colab": {
          "base_uri": "https://localhost:8080/"
        },
        "id": "aoHO93XpDpb5",
        "outputId": "20e28779-17ee-4d54-df49-89b3df1a9bcb"
      },
      "id": "aoHO93XpDpb5",
      "execution_count": null,
      "outputs": [
        {
          "output_type": "execute_result",
          "data": {
            "text/plain": [
              "array(['leveillula lactucae-serriolae', 'podosphaera aphanis',\n",
              "       'lathyrus czeczottianus', ..., 'fusarium wilt of chickpea',\n",
              "       'lathyrus tauricola', 'fumaria officinalis subsp. cilicica'],\n",
              "      dtype=object)"
            ]
          },
          "metadata": {},
          "execution_count": 152
        }
      ]
    },
    {
      "cell_type": "code",
      "source": [
        "#Lets see unique values in the matched dataset\n",
        "df3['labels'].unique()"
      ],
      "metadata": {
        "colab": {
          "base_uri": "https://localhost:8080/"
        },
        "id": "DAs_1zaZBuT5",
        "outputId": "57a41848-263a-4ccb-b5dc-3e8def72ad6e"
      },
      "id": "DAs_1zaZBuT5",
      "execution_count": null,
      "outputs": [
        {
          "output_type": "execute_result",
          "data": {
            "text/plain": [
              "array(['barley', 'potatoes', 'cherries', 'maize bran', 'millets',\n",
              "       'sesame seed', 'cigarettes', 'tomatoes', 'beet pulp',\n",
              "       'sunflower seed', 'figs', 'wheat bran', 'plantains', 'cornflour',\n",
              "       'processed cheese', 'asparagus', 'avocados', 'lard', 'poppy seed',\n",
              "       'grape juice', 'equus asinus', 'chestnuts', 'sesame oil',\n",
              "       'strawberries', 'chickpeas', 'crab apples', 'wheat flour',\n",
              "       'watermelons', 'sour cherries', 'linseed', 'lentils', 'quinces',\n",
              "       'garlic', 'cocoa beans', 'beeswax', 'ginger', 'yuca',\n",
              "       'broken rice', 'coffee substitutes', 'spinach', 'olives',\n",
              "       'soybeans', 'apricots', 'rye', 'weaning foods', 'tapioca',\n",
              "       'horses', 'sorghum', 'cottonseed', 'copra', 'sweetpotatoes',\n",
              "       'eggplants', 'bananas', 'oats', 'mustard seed', 'pears',\n",
              "       'rabbit meat', 'buckwheat', 'goat meat', 'dates', 'kola nuts',\n",
              "       'goats', 'buttermilk', 'rice bran', 'pineapples', 'pistachios',\n",
              "       'raisins', 'cocoa butter', 'coconuts', 'tamari',\n",
              "       'pawpaw (carica papaya)', 'sheep', 'cranberries', 'cloves',\n",
              "       'cabbages', 'jute', 'fonio (digitaria)', 'taro', 'raspberries',\n",
              "       'sugarcane', 'dromedary meat', 'yams', 'safflower seed',\n",
              "       'palm kernels', 'snails', 'yoghurt', 'quinua', 'yautia', 'carobs',\n",
              "       'shea nuts', 'plows', 'tur', 'yerba mate', 'maize starch',\n",
              "       'smoked fish', 'grapefruits', 'butter', 'oleic acid',\n",
              "       'disc harrows'], dtype=object)"
            ]
          },
          "metadata": {},
          "execution_count": 153
        }
      ]
    },
    {
      "cell_type": "markdown",
      "id": "b01fab49",
      "metadata": {
        "id": "b01fab49"
      },
      "source": [
        "The datasets are loaded with the following code. The returned datasets\n",
        "are of type ``pandas.DataFrame``. This makes it easy to manipulate the\n",
        "data if desired. For details about data manipulation with ``pandas``,\n",
        "see their comprehensive documentation http://pandas.pydata.org/."
      ]
    },
    {
      "cell_type": "code",
      "source": [
        "import nltk\n",
        "import nltk\n",
        "\n",
        "\n",
        "\n",
        "\n",
        "print(type(dfA))\n",
        "print(len(dfA))\n",
        "print(len(set(dfA)))\n",
        "print(dfA[:10])\n",
        "print(dfB[:10])\n",
        "print(df3[:10])\n"
      ],
      "metadata": {
        "colab": {
          "base_uri": "https://localhost:8080/"
        },
        "id": "d1WjTMMTN6CH",
        "outputId": "ca610014-aad2-4b7d-8602-39c06dba5e35"
      },
      "id": "d1WjTMMTN6CH",
      "execution_count": null,
      "outputs": [
        {
          "output_type": "stream",
          "name": "stdout",
          "text": [
            "<class 'pandas.core.frame.DataFrame'>\n",
            "13238\n",
            "2\n",
            "   id                                               name\n",
            "0   0  Horses, asses, mules and hinnies; live, pure-b...\n",
            "1   1           Horses; live, pure-bred breeding animals\n",
            "2   2  Horses; live, other than pure-bred breeding an...\n",
            "3   4  Horses, asses, mules and hinnies; live, other ...\n",
            "4   5   Bovine animals; live, pure-bred breeding animals\n",
            "5   6           Cattle; live, pure-bred breeding animals\n",
            "6   7  Cattle; live, other than pure-bred breeding an...\n",
            "7   8          Buffalo; live, pure-bred breeding animals\n",
            "8   9  Buffalo; live, other than pure-bred breeding a...\n",
            "9  10  Bovine animals; live, other than pure-bred bre...\n",
            "   id                            name\n",
            "0   0   leveillula lactucae-serriolae\n",
            "1   1             podosphaera aphanis\n",
            "2   2          lathyrus czeczottianus\n",
            "3   3  crocus biflorus subsp. caricus\n",
            "4   4          hordeum brevisubulatum\n",
            "5   5        vinca major subsp. major\n",
            "6   6            geranium psilostemon\n",
            "7   7                 cantharellaceae\n",
            "8   8                 liatris spicata\n",
            "9   9                     potato pulp\n",
            "                                             feature          labels\n",
            "0                                    Cereals, barley          barley\n",
            "1                    Other fresh or chilled potatoes        potatoes\n",
            "2                     Fruit, edible; cherries, fresh        cherries\n",
            "3          Bran, sharps and other residues, of maize      maize bran\n",
            "4                                    Cereals, millet         millets\n",
            "5    Oil seeds; sesamum seeds, whether or not broken     sesame seed\n",
            "6                      Cigarettes containing tobacco      cigarettes\n",
            "7                           Tomato, fresh or chilled        tomatoes\n",
            "8  Pulp, bagasse and other waste of sugar manufac...       beet pulp\n",
            "9  Oil seeds; sunflower seeds, whether or not broken  sunflower seed\n"
          ]
        }
      ]
    },
    {
      "cell_type": "markdown",
      "source": [
        ""
      ],
      "metadata": {
        "id": "R0vAC5iP28zD"
      },
      "id": "R0vAC5iP28zD"
    },
    {
      "cell_type": "markdown",
      "id": "4169cd03",
      "metadata": {
        "id": "4169cd03"
      },
      "source": [
        "\n",
        "Tokenization\n",
        "-----------------\n",
        "\n"
      ]
    },
    {
      "cell_type": "code",
      "source": [
        "import nltk\n",
        "nltk.download('punkt')"
      ],
      "metadata": {
        "colab": {
          "base_uri": "https://localhost:8080/"
        },
        "id": "uIIsBdo_3Zzm",
        "outputId": "c09e3edb-c930-4b92-c766-01dc56da8538"
      },
      "id": "uIIsBdo_3Zzm",
      "execution_count": null,
      "outputs": [
        {
          "output_type": "stream",
          "name": "stdout",
          "text": [
            "[nltk_data] Downloading package punkt to /root/nltk_data...\n",
            "[nltk_data]   Package punkt is already up-to-date!\n"
          ]
        },
        {
          "output_type": "execute_result",
          "data": {
            "text/plain": [
              "True"
            ]
          },
          "metadata": {},
          "execution_count": 155
        }
      ]
    },
    {
      "cell_type": "code",
      "source": [
        "#Importing word tokenizer to tokenize our   words \n",
        "from nltk.tokenize import word_tokenize \n",
        "\n",
        "dfA['clean_names'] = dfA['name'].apply(nltk.word_tokenize)"
      ],
      "metadata": {
        "id": "la9jiZIE3Dcq"
      },
      "id": "la9jiZIE3Dcq",
      "execution_count": null,
      "outputs": []
    },
    {
      "cell_type": "code",
      "source": [
        "from nltk.tokenize import word_tokenize \n",
        "\n",
        "dfB['clean_names'] = dfB['name'].apply(nltk.word_tokenize)"
      ],
      "metadata": {
        "id": "tnbwagiCMhr_"
      },
      "id": "tnbwagiCMhr_",
      "execution_count": null,
      "outputs": []
    },
    {
      "cell_type": "code",
      "source": [
        "from nltk.tokenize import word_tokenize \n",
        "\n",
        "df3['clean_labels'] = df3['labels'].apply(nltk.word_tokenize)"
      ],
      "metadata": {
        "id": "sFlIxEyUMiJO"
      },
      "id": "sFlIxEyUMiJO",
      "execution_count": null,
      "outputs": []
    },
    {
      "cell_type": "code",
      "source": [
        "df3.head()"
      ],
      "metadata": {
        "colab": {
          "base_uri": "https://localhost:8080/",
          "height": 206
        },
        "id": "OFoh0pSHG8qg",
        "outputId": "6da9a0f9-a1d7-47f8-d683-10c6eb009989"
      },
      "id": "OFoh0pSHG8qg",
      "execution_count": null,
      "outputs": [
        {
          "output_type": "execute_result",
          "data": {
            "text/plain": [
              "                                     feature      labels   clean_labels\n",
              "0                            Cereals, barley      barley       [barley]\n",
              "1            Other fresh or chilled potatoes    potatoes     [potatoes]\n",
              "2             Fruit, edible; cherries, fresh    cherries     [cherries]\n",
              "3  Bran, sharps and other residues, of maize  maize bran  [maize, bran]\n",
              "4                            Cereals, millet     millets      [millets]"
            ],
            "text/html": [
              "\n",
              "  <div id=\"df-09aaaa22-454c-4d50-a9d2-63d5157ca43e\">\n",
              "    <div class=\"colab-df-container\">\n",
              "      <div>\n",
              "<style scoped>\n",
              "    .dataframe tbody tr th:only-of-type {\n",
              "        vertical-align: middle;\n",
              "    }\n",
              "\n",
              "    .dataframe tbody tr th {\n",
              "        vertical-align: top;\n",
              "    }\n",
              "\n",
              "    .dataframe thead th {\n",
              "        text-align: right;\n",
              "    }\n",
              "</style>\n",
              "<table border=\"1\" class=\"dataframe\">\n",
              "  <thead>\n",
              "    <tr style=\"text-align: right;\">\n",
              "      <th></th>\n",
              "      <th>feature</th>\n",
              "      <th>labels</th>\n",
              "      <th>clean_labels</th>\n",
              "    </tr>\n",
              "  </thead>\n",
              "  <tbody>\n",
              "    <tr>\n",
              "      <th>0</th>\n",
              "      <td>Cereals, barley</td>\n",
              "      <td>barley</td>\n",
              "      <td>[barley]</td>\n",
              "    </tr>\n",
              "    <tr>\n",
              "      <th>1</th>\n",
              "      <td>Other fresh or chilled potatoes</td>\n",
              "      <td>potatoes</td>\n",
              "      <td>[potatoes]</td>\n",
              "    </tr>\n",
              "    <tr>\n",
              "      <th>2</th>\n",
              "      <td>Fruit, edible; cherries, fresh</td>\n",
              "      <td>cherries</td>\n",
              "      <td>[cherries]</td>\n",
              "    </tr>\n",
              "    <tr>\n",
              "      <th>3</th>\n",
              "      <td>Bran, sharps and other residues, of maize</td>\n",
              "      <td>maize bran</td>\n",
              "      <td>[maize, bran]</td>\n",
              "    </tr>\n",
              "    <tr>\n",
              "      <th>4</th>\n",
              "      <td>Cereals, millet</td>\n",
              "      <td>millets</td>\n",
              "      <td>[millets]</td>\n",
              "    </tr>\n",
              "  </tbody>\n",
              "</table>\n",
              "</div>\n",
              "      <button class=\"colab-df-convert\" onclick=\"convertToInteractive('df-09aaaa22-454c-4d50-a9d2-63d5157ca43e')\"\n",
              "              title=\"Convert this dataframe to an interactive table.\"\n",
              "              style=\"display:none;\">\n",
              "        \n",
              "  <svg xmlns=\"http://www.w3.org/2000/svg\" height=\"24px\"viewBox=\"0 0 24 24\"\n",
              "       width=\"24px\">\n",
              "    <path d=\"M0 0h24v24H0V0z\" fill=\"none\"/>\n",
              "    <path d=\"M18.56 5.44l.94 2.06.94-2.06 2.06-.94-2.06-.94-.94-2.06-.94 2.06-2.06.94zm-11 1L8.5 8.5l.94-2.06 2.06-.94-2.06-.94L8.5 2.5l-.94 2.06-2.06.94zm10 10l.94 2.06.94-2.06 2.06-.94-2.06-.94-.94-2.06-.94 2.06-2.06.94z\"/><path d=\"M17.41 7.96l-1.37-1.37c-.4-.4-.92-.59-1.43-.59-.52 0-1.04.2-1.43.59L10.3 9.45l-7.72 7.72c-.78.78-.78 2.05 0 2.83L4 21.41c.39.39.9.59 1.41.59.51 0 1.02-.2 1.41-.59l7.78-7.78 2.81-2.81c.8-.78.8-2.07 0-2.86zM5.41 20L4 18.59l7.72-7.72 1.47 1.35L5.41 20z\"/>\n",
              "  </svg>\n",
              "      </button>\n",
              "      \n",
              "  <style>\n",
              "    .colab-df-container {\n",
              "      display:flex;\n",
              "      flex-wrap:wrap;\n",
              "      gap: 12px;\n",
              "    }\n",
              "\n",
              "    .colab-df-convert {\n",
              "      background-color: #E8F0FE;\n",
              "      border: none;\n",
              "      border-radius: 50%;\n",
              "      cursor: pointer;\n",
              "      display: none;\n",
              "      fill: #1967D2;\n",
              "      height: 32px;\n",
              "      padding: 0 0 0 0;\n",
              "      width: 32px;\n",
              "    }\n",
              "\n",
              "    .colab-df-convert:hover {\n",
              "      background-color: #E2EBFA;\n",
              "      box-shadow: 0px 1px 2px rgba(60, 64, 67, 0.3), 0px 1px 3px 1px rgba(60, 64, 67, 0.15);\n",
              "      fill: #174EA6;\n",
              "    }\n",
              "\n",
              "    [theme=dark] .colab-df-convert {\n",
              "      background-color: #3B4455;\n",
              "      fill: #D2E3FC;\n",
              "    }\n",
              "\n",
              "    [theme=dark] .colab-df-convert:hover {\n",
              "      background-color: #434B5C;\n",
              "      box-shadow: 0px 1px 3px 1px rgba(0, 0, 0, 0.15);\n",
              "      filter: drop-shadow(0px 1px 2px rgba(0, 0, 0, 0.3));\n",
              "      fill: #FFFFFF;\n",
              "    }\n",
              "  </style>\n",
              "\n",
              "      <script>\n",
              "        const buttonEl =\n",
              "          document.querySelector('#df-09aaaa22-454c-4d50-a9d2-63d5157ca43e button.colab-df-convert');\n",
              "        buttonEl.style.display =\n",
              "          google.colab.kernel.accessAllowed ? 'block' : 'none';\n",
              "\n",
              "        async function convertToInteractive(key) {\n",
              "          const element = document.querySelector('#df-09aaaa22-454c-4d50-a9d2-63d5157ca43e');\n",
              "          const dataTable =\n",
              "            await google.colab.kernel.invokeFunction('convertToInteractive',\n",
              "                                                     [key], {});\n",
              "          if (!dataTable) return;\n",
              "\n",
              "          const docLinkHtml = 'Like what you see? Visit the ' +\n",
              "            '<a target=\"_blank\" href=https://colab.research.google.com/notebooks/data_table.ipynb>data table notebook</a>'\n",
              "            + ' to learn more about interactive tables.';\n",
              "          element.innerHTML = '';\n",
              "          dataTable['output_type'] = 'display_data';\n",
              "          await google.colab.output.renderOutput(dataTable, element);\n",
              "          const docLink = document.createElement('div');\n",
              "          docLink.innerHTML = docLinkHtml;\n",
              "          element.appendChild(docLink);\n",
              "        }\n",
              "      </script>\n",
              "    </div>\n",
              "  </div>\n",
              "  "
            ]
          },
          "metadata": {},
          "execution_count": 159
        }
      ]
    },
    {
      "cell_type": "code",
      "source": [
        "    PAD_token = 0   # Used for padding short sentences\n",
        "    SOS_token = 1   # Start-of-sentence token\n",
        "    EOS_token = 2   # End-of-sentence token\n"
      ],
      "metadata": {
        "id": "rclHb8ml6P_M"
      },
      "id": "rclHb8ml6P_M",
      "execution_count": null,
      "outputs": []
    },
    {
      "cell_type": "markdown",
      "source": [
        "Creating a count Corpus doc"
      ],
      "metadata": {
        "id": "b-IPYbRU3lUZ"
      },
      "id": "b-IPYbRU3lUZ"
    },
    {
      "cell_type": "code",
      "source": [
        "class Vocabulary:\n",
        "  \n",
        "    PAD_token = 0   # Used for padding short sentences\n",
        "    SOS_token = 1   # Start-of-sentence token\n",
        "    EOS_token = 2   # End-of-sentence token\n",
        "\n",
        "    def __init__(self, name):\n",
        "        self.name = name\n",
        "        self.word2index = {}\n",
        "        self.word2count = {}\n",
        "        self.index2word = {PAD_token: \"PAD\", SOS_token: \"SOS\", EOS_token: \"EOS\"}\n",
        "        self.num_words = 3\n",
        "        self.num_sentences = 0\n",
        "        self.longest_sentence = 0\n",
        "\n",
        "    def add_word(self, word):\n",
        "        if word not in self.word2index:\n",
        "            # First entry of word into vocabulary\n",
        "            self.word2index[word] = self.num_words\n",
        "            self.word2count[word] = 1\n",
        "            self.index2word[self.num_words] = word\n",
        "            self.num_words += 1\n",
        "        else:\n",
        "            # Word exists; increase word count\n",
        "            self.word2count[word] += 1\n",
        "            \n",
        "    def add_sentence(self, sentence):\n",
        "        sentence_len = 0\n",
        "        for word in sentence.split(' '):\n",
        "            sentence_len += 1\n",
        "            self.add_word(word)\n",
        "        if sentence_len > self.longest_sentence:\n",
        "            # This is the longest sentence\n",
        "            self.longest_sentence = sentence_len\n",
        "        # Count the number of sentences\n",
        "        self.num_sentences += 1\n",
        "\n",
        "    def to_word(self, index):\n",
        "        return self.index2word[index]\n",
        "\n",
        "    def to_index(self, word):\n",
        "        return self.word2index[word]"
      ],
      "metadata": {
        "id": "mpVmSg7Q4wJM"
      },
      "id": "mpVmSg7Q4wJM",
      "execution_count": null,
      "outputs": []
    },
    {
      "cell_type": "code",
      "source": [
        "voc = Vocabulary('df3')\n",
        "print(voc)"
      ],
      "metadata": {
        "colab": {
          "base_uri": "https://localhost:8080/"
        },
        "id": "p7BuwPIM4_Cc",
        "outputId": "51544daa-a646-4f71-d082-8c98e71b9d1d"
      },
      "id": "p7BuwPIM4_Cc",
      "execution_count": null,
      "outputs": [
        {
          "output_type": "stream",
          "name": "stdout",
          "text": [
            "<__main__.Vocabulary object at 0x7f4a9d4c7610>\n"
          ]
        }
      ]
    },
    {
      "cell_type": "code",
      "source": [
        "corpus = [\n",
        "'barley','potatoes', 'cherries', 'maize bran', 'millets',\n",
        "       'sesame seed', 'cigarettes', 'tomatoes', 'beet pulp',\n",
        "       'sunflower seed', 'figs', 'wheat bran', 'plantains', 'cornflour',\n",
        "       'processed cheese', 'asparagus', 'avocados', 'lard', 'poppy seed',\n",
        "       'grape juice', 'equus asinus', 'chestnuts', 'sesame oil',\n",
        "       'strawberries', 'chickpeas', 'crab apples', 'wheat flour',\n",
        "       'watermelons', 'sour cherries', 'linseed', 'lentils', 'quinces',\n",
        "       'garlic', 'cocoa beans', 'beeswax', 'ginger', 'yuca',\n",
        "       'broken rice', 'coffee substitutes', 'spinach', 'olives',\n",
        "       'soybeans', 'apricots', 'rye', 'weaning foods', 'tapioca',\n",
        "       'horses', 'sorghum', 'cottonseed', 'copra', 'sweetpotatoes',\n",
        "       'eggplants', 'bananas', 'oats', 'mustard seed', 'pears',\n",
        "       'rabbit meat', 'buckwheat', 'goat meat', 'dates', 'kola nuts',\n",
        "       'goats', 'buttermilk', 'rice bran', 'pineapples', 'pistachios',\n",
        "       'raisins', 'cocoa butter', 'coconuts', 'tamari',\n",
        "       'pawpaw (carica papaya)', 'sheep', 'cranberries', 'cloves',\n",
        "       'cabbages', 'jute', 'fonio (digitaria)', 'taro', 'raspberries',\n",
        "       'sugarcane', 'dromedary meat', 'yams', 'safflower seed',\n",
        "       'palm kernels', 'snails', 'yoghurt', 'quinua', 'yautia', 'carobs',\n",
        "       'shea nuts', 'plows', 'tur', 'yerba mate', 'maize starch',\n",
        "       'smoked fish', 'grapefruits', 'butter', 'oleic acid',\n",
        "       'disc harrows']\n",
        "print(corpus)\n"
      ],
      "metadata": {
        "colab": {
          "base_uri": "https://localhost:8080/"
        },
        "id": "fzkLunkLORh5",
        "outputId": "c0dd2d42-bbc7-43fc-bfbb-5fe5a98adf23"
      },
      "id": "fzkLunkLORh5",
      "execution_count": null,
      "outputs": [
        {
          "output_type": "stream",
          "name": "stdout",
          "text": [
            "['barley', 'potatoes', 'cherries', 'maize bran', 'millets', 'sesame seed', 'cigarettes', 'tomatoes', 'beet pulp', 'sunflower seed', 'figs', 'wheat bran', 'plantains', 'cornflour', 'processed cheese', 'asparagus', 'avocados', 'lard', 'poppy seed', 'grape juice', 'equus asinus', 'chestnuts', 'sesame oil', 'strawberries', 'chickpeas', 'crab apples', 'wheat flour', 'watermelons', 'sour cherries', 'linseed', 'lentils', 'quinces', 'garlic', 'cocoa beans', 'beeswax', 'ginger', 'yuca', 'broken rice', 'coffee substitutes', 'spinach', 'olives', 'soybeans', 'apricots', 'rye', 'weaning foods', 'tapioca', 'horses', 'sorghum', 'cottonseed', 'copra', 'sweetpotatoes', 'eggplants', 'bananas', 'oats', 'mustard seed', 'pears', 'rabbit meat', 'buckwheat', 'goat meat', 'dates', 'kola nuts', 'goats', 'buttermilk', 'rice bran', 'pineapples', 'pistachios', 'raisins', 'cocoa butter', 'coconuts', 'tamari', 'pawpaw (carica papaya)', 'sheep', 'cranberries', 'cloves', 'cabbages', 'jute', 'fonio (digitaria)', 'taro', 'raspberries', 'sugarcane', 'dromedary meat', 'yams', 'safflower seed', 'palm kernels', 'snails', 'yoghurt', 'quinua', 'yautia', 'carobs', 'shea nuts', 'plows', 'tur', 'yerba mate', 'maize starch', 'smoked fish', 'grapefruits', 'butter', 'oleic acid', 'disc harrows']\n"
          ]
        }
      ]
    },
    {
      "cell_type": "code",
      "source": [
        "for sent in df3:\n",
        "  voc.add_sentence(sent)"
      ],
      "metadata": {
        "id": "OcteVq8K4_H4"
      },
      "id": "OcteVq8K4_H4",
      "execution_count": null,
      "outputs": []
    },
    {
      "cell_type": "code",
      "source": [
        "import nltk\n",
        "nltk.download('punkt')\n",
        "\n",
        "import nltk\n",
        "nltk.download('averaged_perceptron_tagger')\n",
        "for i in sent:\n",
        "     \n",
        "    # Word tokenizers is used to find the words\n",
        "    # and punctuation in a string\n",
        "    wordsList = nltk.word_tokenize(i)\n",
        " \n",
        " \n",
        " \n",
        "    #  Using a Tagger. Which is part-of-speech\n",
        "    # tagger or POS-tagger.\n",
        "    tagged = nltk.pos_tag(wordsList)\n",
        " \n",
        "    print(tagged)"
      ],
      "metadata": {
        "colab": {
          "base_uri": "https://localhost:8080/"
        },
        "id": "0_xGaDfcp3L8",
        "outputId": "9ede9193-ecbb-4edd-8896-28f156617282"
      },
      "id": "0_xGaDfcp3L8",
      "execution_count": null,
      "outputs": [
        {
          "output_type": "stream",
          "name": "stdout",
          "text": [
            "[nltk_data] Downloading package punkt to /root/nltk_data...\n",
            "[nltk_data]   Package punkt is already up-to-date!\n",
            "[nltk_data] Downloading package averaged_perceptron_tagger to\n",
            "[nltk_data]     /root/nltk_data...\n",
            "[nltk_data]   Package averaged_perceptron_tagger is already up-to-\n",
            "[nltk_data]       date!\n",
            "[('c', 'NNS')]\n",
            "[('l', 'NN')]\n",
            "[('e', 'NN')]\n",
            "[('a', 'DT')]\n",
            "[('n', 'NN')]\n",
            "[('_', 'NN')]\n",
            "[('l', 'NN')]\n",
            "[('a', 'DT')]\n",
            "[('b', 'NN')]\n",
            "[('e', 'NN')]\n",
            "[('l', 'NN')]\n",
            "[('s', 'NN')]\n"
          ]
        }
      ]
    },
    {
      "cell_type": "code",
      "source": [
        "for word in range(voc.num_words):\n",
        "    print(voc.to_word(word))"
      ],
      "metadata": {
        "colab": {
          "base_uri": "https://localhost:8080/"
        },
        "id": "l-fh-h-i4_L4",
        "outputId": "5b20d414-9765-4fec-a970-73d90719a4ae"
      },
      "id": "l-fh-h-i4_L4",
      "execution_count": null,
      "outputs": [
        {
          "output_type": "stream",
          "name": "stdout",
          "text": [
            "PAD\n",
            "SOS\n",
            "EOS\n",
            "feature\n",
            "labels\n",
            "clean_labels\n"
          ]
        }
      ]
    },
    {
      "cell_type": "code",
      "source": [
        "for i, word in enumerate(wv.vocab):\n",
        "    if i == 10:\n",
        "        break\n",
        "    print(word)"
      ],
      "metadata": {
        "id": "7ta6KFDs974x"
      },
      "id": "7ta6KFDs974x",
      "execution_count": null,
      "outputs": []
    },
    {
      "cell_type": "code",
      "source": [
        "from sklearn.feature_extraction.text import CountVectorizer\n",
        "\n",
        "# list of text documents\n",
        "text = corpus\n",
        "\n",
        "vectorizer = CountVectorizer()\n",
        "# tokenize and build vocab\n",
        "vectorizer.fit(text)\n",
        "\n",
        "print(vectorizer.vocabulary_)\n",
        "\n",
        "# encode document\n",
        "vector = vectorizer.transform(text)\n",
        "# summarize encoded vector\n",
        "print(vector.shape)\n",
        "print(vector.toarray())"
      ],
      "metadata": {
        "colab": {
          "base_uri": "https://localhost:8080/"
        },
        "id": "W_Kl9ads3Dm9",
        "outputId": "4d7762ae-c7d8-43a1-c354-2bf396bf0bc5"
      },
      "id": "W_Kl9ads3Dm9",
      "execution_count": null,
      "outputs": [
        {
          "output_type": "stream",
          "name": "stdout",
          "text": [
            "{'barley': 7, 'potatoes': 78, 'cherries': 20, 'maize': 59, 'bran': 11, 'millets': 62, 'sesame': 90, 'seed': 89, 'cigarettes': 23, 'tomatoes': 108, 'beet': 10, 'pulp': 80, 'sunflower': 103, 'figs': 39, 'wheat': 112, 'plantains': 75, 'cornflour': 29, 'processed': 79, 'cheese': 19, 'asparagus': 4, 'avocados': 5, 'lard': 56, 'poppy': 77, 'grape': 48, 'juice': 52, 'equus': 38, 'asinus': 3, 'chestnuts': 21, 'oil': 66, 'strawberries': 100, 'chickpeas': 22, 'crab': 31, 'apples': 1, 'flour': 41, 'watermelons': 110, 'sour': 96, 'linseed': 58, 'lentils': 57, 'quinces': 81, 'garlic': 44, 'cocoa': 25, 'beans': 8, 'beeswax': 9, 'ginger': 45, 'yuca': 117, 'broken': 12, 'rice': 86, 'coffee': 27, 'substitutes': 101, 'spinach': 98, 'olives': 68, 'soybeans': 97, 'apricots': 2, 'rye': 87, 'weaning': 111, 'foods': 43, 'tapioca': 106, 'horses': 51, 'sorghum': 95, 'cottonseed': 30, 'copra': 28, 'sweetpotatoes': 104, 'eggplants': 37, 'bananas': 6, 'oats': 65, 'mustard': 63, 'pears': 72, 'rabbit': 83, 'meat': 61, 'buckwheat': 13, 'goat': 46, 'dates': 33, 'kola': 55, 'nuts': 64, 'goats': 47, 'buttermilk': 15, 'pineapples': 73, 'pistachios': 74, 'raisins': 84, 'butter': 14, 'coconuts': 26, 'tamari': 105, 'pawpaw': 71, 'carica': 17, 'papaya': 70, 'sheep': 92, 'cranberries': 32, 'cloves': 24, 'cabbages': 16, 'jute': 53, 'fonio': 42, 'digitaria': 34, 'taro': 107, 'raspberries': 85, 'sugarcane': 102, 'dromedary': 36, 'yams': 113, 'safflower': 88, 'palm': 69, 'kernels': 54, 'snails': 94, 'yoghurt': 116, 'quinua': 82, 'yautia': 114, 'carobs': 18, 'shea': 91, 'plows': 76, 'tur': 109, 'yerba': 115, 'mate': 60, 'starch': 99, 'smoked': 93, 'fish': 40, 'grapefruits': 49, 'oleic': 67, 'acid': 0, 'disc': 35, 'harrows': 50}\n",
            "(99, 118)\n",
            "[[0 0 0 ... 0 0 0]\n",
            " [0 0 0 ... 0 0 0]\n",
            " [0 0 0 ... 0 0 0]\n",
            " ...\n",
            " [0 0 0 ... 0 0 0]\n",
            " [1 0 0 ... 0 0 0]\n",
            " [0 0 0 ... 0 0 0]]\n"
          ]
        }
      ]
    },
    {
      "cell_type": "code",
      "source": [
        "coun_vect = CountVectorizer()\n",
        "\n",
        "count_matrix = coun_vect.fit_transform(text)\n",
        "count_array = count_matrix.toarray()\n",
        "test = pd.DataFrame(data=count_array,columns = coun_vect.get_feature_names())\n",
        "print(test)"
      ],
      "metadata": {
        "colab": {
          "base_uri": "https://localhost:8080/"
        },
        "id": "PoIAPKL33Dp3",
        "outputId": "0db80445-b9ff-4311-81e7-887a18f8cc42"
      },
      "id": "PoIAPKL33Dp3",
      "execution_count": null,
      "outputs": [
        {
          "output_type": "stream",
          "name": "stdout",
          "text": [
            "    acid  apples  apricots  asinus  asparagus  avocados  bananas  barley  \\\n",
            "0      0       0         0       0          0         0        0       1   \n",
            "1      0       0         0       0          0         0        0       0   \n",
            "2      0       0         0       0          0         0        0       0   \n",
            "3      0       0         0       0          0         0        0       0   \n",
            "4      0       0         0       0          0         0        0       0   \n",
            "..   ...     ...       ...     ...        ...       ...      ...     ...   \n",
            "94     0       0         0       0          0         0        0       0   \n",
            "95     0       0         0       0          0         0        0       0   \n",
            "96     0       0         0       0          0         0        0       0   \n",
            "97     1       0         0       0          0         0        0       0   \n",
            "98     0       0         0       0          0         0        0       0   \n",
            "\n",
            "    beans  beeswax  ...  tomatoes  tur  watermelons  weaning  wheat  yams  \\\n",
            "0       0        0  ...         0    0            0        0      0     0   \n",
            "1       0        0  ...         0    0            0        0      0     0   \n",
            "2       0        0  ...         0    0            0        0      0     0   \n",
            "3       0        0  ...         0    0            0        0      0     0   \n",
            "4       0        0  ...         0    0            0        0      0     0   \n",
            "..    ...      ...  ...       ...  ...          ...      ...    ...   ...   \n",
            "94      0        0  ...         0    0            0        0      0     0   \n",
            "95      0        0  ...         0    0            0        0      0     0   \n",
            "96      0        0  ...         0    0            0        0      0     0   \n",
            "97      0        0  ...         0    0            0        0      0     0   \n",
            "98      0        0  ...         0    0            0        0      0     0   \n",
            "\n",
            "    yautia  yerba  yoghurt  yuca  \n",
            "0        0      0        0     0  \n",
            "1        0      0        0     0  \n",
            "2        0      0        0     0  \n",
            "3        0      0        0     0  \n",
            "4        0      0        0     0  \n",
            "..     ...    ...      ...   ...  \n",
            "94       0      0        0     0  \n",
            "95       0      0        0     0  \n",
            "96       0      0        0     0  \n",
            "97       0      0        0     0  \n",
            "98       0      0        0     0  \n",
            "\n",
            "[99 rows x 118 columns]\n"
          ]
        },
        {
          "output_type": "stream",
          "name": "stderr",
          "text": [
            "/usr/local/lib/python3.7/dist-packages/sklearn/utils/deprecation.py:87: FutureWarning: Function get_feature_names is deprecated; get_feature_names is deprecated in 1.0 and will be removed in 1.2. Please use get_feature_names_out instead.\n",
            "  warnings.warn(msg, category=FutureWarning)\n"
          ]
        }
      ]
    },
    {
      "cell_type": "markdown",
      "source": [
        "#Creating Test Data"
      ],
      "metadata": {
        "id": "cXGgdttXBHwV"
      },
      "id": "cXGgdttXBHwV"
    },
    {
      "cell_type": "code",
      "source": [
        "\n",
        "train = pd.DataFrame(df3.labels)\n",
        "test = pd.DataFrame(dfA.name)"
      ],
      "metadata": {
        "id": "GyUgPvaFBLMZ"
      },
      "id": "GyUgPvaFBLMZ",
      "execution_count": null,
      "outputs": []
    },
    {
      "cell_type": "code",
      "source": [
        "train.head()"
      ],
      "metadata": {
        "colab": {
          "base_uri": "https://localhost:8080/",
          "height": 206
        },
        "id": "TFu2IDS9KHir",
        "outputId": "fdd98f10-9016-4a84-89bc-6e8f7eac7b6e"
      },
      "id": "TFu2IDS9KHir",
      "execution_count": null,
      "outputs": [
        {
          "output_type": "execute_result",
          "data": {
            "text/plain": [
              "       labels\n",
              "0      barley\n",
              "1    potatoes\n",
              "2    cherries\n",
              "3  maize bran\n",
              "4     millets"
            ],
            "text/html": [
              "\n",
              "  <div id=\"df-1a1fc938-db7f-4cbc-a1aa-776231ce1097\">\n",
              "    <div class=\"colab-df-container\">\n",
              "      <div>\n",
              "<style scoped>\n",
              "    .dataframe tbody tr th:only-of-type {\n",
              "        vertical-align: middle;\n",
              "    }\n",
              "\n",
              "    .dataframe tbody tr th {\n",
              "        vertical-align: top;\n",
              "    }\n",
              "\n",
              "    .dataframe thead th {\n",
              "        text-align: right;\n",
              "    }\n",
              "</style>\n",
              "<table border=\"1\" class=\"dataframe\">\n",
              "  <thead>\n",
              "    <tr style=\"text-align: right;\">\n",
              "      <th></th>\n",
              "      <th>labels</th>\n",
              "    </tr>\n",
              "  </thead>\n",
              "  <tbody>\n",
              "    <tr>\n",
              "      <th>0</th>\n",
              "      <td>barley</td>\n",
              "    </tr>\n",
              "    <tr>\n",
              "      <th>1</th>\n",
              "      <td>potatoes</td>\n",
              "    </tr>\n",
              "    <tr>\n",
              "      <th>2</th>\n",
              "      <td>cherries</td>\n",
              "    </tr>\n",
              "    <tr>\n",
              "      <th>3</th>\n",
              "      <td>maize bran</td>\n",
              "    </tr>\n",
              "    <tr>\n",
              "      <th>4</th>\n",
              "      <td>millets</td>\n",
              "    </tr>\n",
              "  </tbody>\n",
              "</table>\n",
              "</div>\n",
              "      <button class=\"colab-df-convert\" onclick=\"convertToInteractive('df-1a1fc938-db7f-4cbc-a1aa-776231ce1097')\"\n",
              "              title=\"Convert this dataframe to an interactive table.\"\n",
              "              style=\"display:none;\">\n",
              "        \n",
              "  <svg xmlns=\"http://www.w3.org/2000/svg\" height=\"24px\"viewBox=\"0 0 24 24\"\n",
              "       width=\"24px\">\n",
              "    <path d=\"M0 0h24v24H0V0z\" fill=\"none\"/>\n",
              "    <path d=\"M18.56 5.44l.94 2.06.94-2.06 2.06-.94-2.06-.94-.94-2.06-.94 2.06-2.06.94zm-11 1L8.5 8.5l.94-2.06 2.06-.94-2.06-.94L8.5 2.5l-.94 2.06-2.06.94zm10 10l.94 2.06.94-2.06 2.06-.94-2.06-.94-.94-2.06-.94 2.06-2.06.94z\"/><path d=\"M17.41 7.96l-1.37-1.37c-.4-.4-.92-.59-1.43-.59-.52 0-1.04.2-1.43.59L10.3 9.45l-7.72 7.72c-.78.78-.78 2.05 0 2.83L4 21.41c.39.39.9.59 1.41.59.51 0 1.02-.2 1.41-.59l7.78-7.78 2.81-2.81c.8-.78.8-2.07 0-2.86zM5.41 20L4 18.59l7.72-7.72 1.47 1.35L5.41 20z\"/>\n",
              "  </svg>\n",
              "      </button>\n",
              "      \n",
              "  <style>\n",
              "    .colab-df-container {\n",
              "      display:flex;\n",
              "      flex-wrap:wrap;\n",
              "      gap: 12px;\n",
              "    }\n",
              "\n",
              "    .colab-df-convert {\n",
              "      background-color: #E8F0FE;\n",
              "      border: none;\n",
              "      border-radius: 50%;\n",
              "      cursor: pointer;\n",
              "      display: none;\n",
              "      fill: #1967D2;\n",
              "      height: 32px;\n",
              "      padding: 0 0 0 0;\n",
              "      width: 32px;\n",
              "    }\n",
              "\n",
              "    .colab-df-convert:hover {\n",
              "      background-color: #E2EBFA;\n",
              "      box-shadow: 0px 1px 2px rgba(60, 64, 67, 0.3), 0px 1px 3px 1px rgba(60, 64, 67, 0.15);\n",
              "      fill: #174EA6;\n",
              "    }\n",
              "\n",
              "    [theme=dark] .colab-df-convert {\n",
              "      background-color: #3B4455;\n",
              "      fill: #D2E3FC;\n",
              "    }\n",
              "\n",
              "    [theme=dark] .colab-df-convert:hover {\n",
              "      background-color: #434B5C;\n",
              "      box-shadow: 0px 1px 3px 1px rgba(0, 0, 0, 0.15);\n",
              "      filter: drop-shadow(0px 1px 2px rgba(0, 0, 0, 0.3));\n",
              "      fill: #FFFFFF;\n",
              "    }\n",
              "  </style>\n",
              "\n",
              "      <script>\n",
              "        const buttonEl =\n",
              "          document.querySelector('#df-1a1fc938-db7f-4cbc-a1aa-776231ce1097 button.colab-df-convert');\n",
              "        buttonEl.style.display =\n",
              "          google.colab.kernel.accessAllowed ? 'block' : 'none';\n",
              "\n",
              "        async function convertToInteractive(key) {\n",
              "          const element = document.querySelector('#df-1a1fc938-db7f-4cbc-a1aa-776231ce1097');\n",
              "          const dataTable =\n",
              "            await google.colab.kernel.invokeFunction('convertToInteractive',\n",
              "                                                     [key], {});\n",
              "          if (!dataTable) return;\n",
              "\n",
              "          const docLinkHtml = 'Like what you see? Visit the ' +\n",
              "            '<a target=\"_blank\" href=https://colab.research.google.com/notebooks/data_table.ipynb>data table notebook</a>'\n",
              "            + ' to learn more about interactive tables.';\n",
              "          element.innerHTML = '';\n",
              "          dataTable['output_type'] = 'display_data';\n",
              "          await google.colab.output.renderOutput(dataTable, element);\n",
              "          const docLink = document.createElement('div');\n",
              "          docLink.innerHTML = docLinkHtml;\n",
              "          element.appendChild(docLink);\n",
              "        }\n",
              "      </script>\n",
              "    </div>\n",
              "  </div>\n",
              "  "
            ]
          },
          "metadata": {},
          "execution_count": 170
        }
      ]
    },
    {
      "cell_type": "code",
      "source": [
        "test.head()"
      ],
      "metadata": {
        "colab": {
          "base_uri": "https://localhost:8080/",
          "height": 206
        },
        "id": "I9P51jxuKK8f",
        "outputId": "486ad5c8-5264-4cef-d038-c6e29d0a8075"
      },
      "id": "I9P51jxuKK8f",
      "execution_count": null,
      "outputs": [
        {
          "output_type": "execute_result",
          "data": {
            "text/plain": [
              "                                                name\n",
              "0  Horses, asses, mules and hinnies; live, pure-b...\n",
              "1           Horses; live, pure-bred breeding animals\n",
              "2  Horses; live, other than pure-bred breeding an...\n",
              "3  Horses, asses, mules and hinnies; live, other ...\n",
              "4   Bovine animals; live, pure-bred breeding animals"
            ],
            "text/html": [
              "\n",
              "  <div id=\"df-ca9d3b31-6913-4eee-8079-9fd2a03c2586\">\n",
              "    <div class=\"colab-df-container\">\n",
              "      <div>\n",
              "<style scoped>\n",
              "    .dataframe tbody tr th:only-of-type {\n",
              "        vertical-align: middle;\n",
              "    }\n",
              "\n",
              "    .dataframe tbody tr th {\n",
              "        vertical-align: top;\n",
              "    }\n",
              "\n",
              "    .dataframe thead th {\n",
              "        text-align: right;\n",
              "    }\n",
              "</style>\n",
              "<table border=\"1\" class=\"dataframe\">\n",
              "  <thead>\n",
              "    <tr style=\"text-align: right;\">\n",
              "      <th></th>\n",
              "      <th>name</th>\n",
              "    </tr>\n",
              "  </thead>\n",
              "  <tbody>\n",
              "    <tr>\n",
              "      <th>0</th>\n",
              "      <td>Horses, asses, mules and hinnies; live, pure-b...</td>\n",
              "    </tr>\n",
              "    <tr>\n",
              "      <th>1</th>\n",
              "      <td>Horses; live, pure-bred breeding animals</td>\n",
              "    </tr>\n",
              "    <tr>\n",
              "      <th>2</th>\n",
              "      <td>Horses; live, other than pure-bred breeding an...</td>\n",
              "    </tr>\n",
              "    <tr>\n",
              "      <th>3</th>\n",
              "      <td>Horses, asses, mules and hinnies; live, other ...</td>\n",
              "    </tr>\n",
              "    <tr>\n",
              "      <th>4</th>\n",
              "      <td>Bovine animals; live, pure-bred breeding animals</td>\n",
              "    </tr>\n",
              "  </tbody>\n",
              "</table>\n",
              "</div>\n",
              "      <button class=\"colab-df-convert\" onclick=\"convertToInteractive('df-ca9d3b31-6913-4eee-8079-9fd2a03c2586')\"\n",
              "              title=\"Convert this dataframe to an interactive table.\"\n",
              "              style=\"display:none;\">\n",
              "        \n",
              "  <svg xmlns=\"http://www.w3.org/2000/svg\" height=\"24px\"viewBox=\"0 0 24 24\"\n",
              "       width=\"24px\">\n",
              "    <path d=\"M0 0h24v24H0V0z\" fill=\"none\"/>\n",
              "    <path d=\"M18.56 5.44l.94 2.06.94-2.06 2.06-.94-2.06-.94-.94-2.06-.94 2.06-2.06.94zm-11 1L8.5 8.5l.94-2.06 2.06-.94-2.06-.94L8.5 2.5l-.94 2.06-2.06.94zm10 10l.94 2.06.94-2.06 2.06-.94-2.06-.94-.94-2.06-.94 2.06-2.06.94z\"/><path d=\"M17.41 7.96l-1.37-1.37c-.4-.4-.92-.59-1.43-.59-.52 0-1.04.2-1.43.59L10.3 9.45l-7.72 7.72c-.78.78-.78 2.05 0 2.83L4 21.41c.39.39.9.59 1.41.59.51 0 1.02-.2 1.41-.59l7.78-7.78 2.81-2.81c.8-.78.8-2.07 0-2.86zM5.41 20L4 18.59l7.72-7.72 1.47 1.35L5.41 20z\"/>\n",
              "  </svg>\n",
              "      </button>\n",
              "      \n",
              "  <style>\n",
              "    .colab-df-container {\n",
              "      display:flex;\n",
              "      flex-wrap:wrap;\n",
              "      gap: 12px;\n",
              "    }\n",
              "\n",
              "    .colab-df-convert {\n",
              "      background-color: #E8F0FE;\n",
              "      border: none;\n",
              "      border-radius: 50%;\n",
              "      cursor: pointer;\n",
              "      display: none;\n",
              "      fill: #1967D2;\n",
              "      height: 32px;\n",
              "      padding: 0 0 0 0;\n",
              "      width: 32px;\n",
              "    }\n",
              "\n",
              "    .colab-df-convert:hover {\n",
              "      background-color: #E2EBFA;\n",
              "      box-shadow: 0px 1px 2px rgba(60, 64, 67, 0.3), 0px 1px 3px 1px rgba(60, 64, 67, 0.15);\n",
              "      fill: #174EA6;\n",
              "    }\n",
              "\n",
              "    [theme=dark] .colab-df-convert {\n",
              "      background-color: #3B4455;\n",
              "      fill: #D2E3FC;\n",
              "    }\n",
              "\n",
              "    [theme=dark] .colab-df-convert:hover {\n",
              "      background-color: #434B5C;\n",
              "      box-shadow: 0px 1px 3px 1px rgba(0, 0, 0, 0.15);\n",
              "      filter: drop-shadow(0px 1px 2px rgba(0, 0, 0, 0.3));\n",
              "      fill: #FFFFFF;\n",
              "    }\n",
              "  </style>\n",
              "\n",
              "      <script>\n",
              "        const buttonEl =\n",
              "          document.querySelector('#df-ca9d3b31-6913-4eee-8079-9fd2a03c2586 button.colab-df-convert');\n",
              "        buttonEl.style.display =\n",
              "          google.colab.kernel.accessAllowed ? 'block' : 'none';\n",
              "\n",
              "        async function convertToInteractive(key) {\n",
              "          const element = document.querySelector('#df-ca9d3b31-6913-4eee-8079-9fd2a03c2586');\n",
              "          const dataTable =\n",
              "            await google.colab.kernel.invokeFunction('convertToInteractive',\n",
              "                                                     [key], {});\n",
              "          if (!dataTable) return;\n",
              "\n",
              "          const docLinkHtml = 'Like what you see? Visit the ' +\n",
              "            '<a target=\"_blank\" href=https://colab.research.google.com/notebooks/data_table.ipynb>data table notebook</a>'\n",
              "            + ' to learn more about interactive tables.';\n",
              "          element.innerHTML = '';\n",
              "          dataTable['output_type'] = 'display_data';\n",
              "          await google.colab.output.renderOutput(dataTable, element);\n",
              "          const docLink = document.createElement('div');\n",
              "          docLink.innerHTML = docLinkHtml;\n",
              "          element.appendChild(docLink);\n",
              "        }\n",
              "      </script>\n",
              "    </div>\n",
              "  </div>\n",
              "  "
            ]
          },
          "metadata": {},
          "execution_count": 171
        }
      ]
    },
    {
      "cell_type": "markdown",
      "source": [
        "Preprocessing"
      ],
      "metadata": {
        "id": "uNUAadGmaO8W"
      },
      "id": "uNUAadGmaO8W"
    },
    {
      "cell_type": "code",
      "source": [
        "\n",
        "# split keywords by separator and save them as array\n",
        "\n",
        "df3['labels'] = df3['labels'].apply(lambda x: x.split(' '))\n",
        "\n",
        "# convert description keywords to lowercase\n",
        "df3['labels'] = df3['labels'].apply(lambda description_keywords: [keyword.lower() for keyword in description_keywords])\n",
        "\n",
        "# get number of keywords for each class\n",
        "df3['number_of_labels'] = df3['labels'].apply(lambda row: len(row))\n",
        "\n",
        "# lets check our keywords\n",
        "print(df3)"
      ],
      "metadata": {
        "colab": {
          "base_uri": "https://localhost:8080/"
        },
        "id": "UX10RIRSVKNP",
        "outputId": "bcd9fa78-c392-4f2e-f5cd-3c4d56e89b19"
      },
      "id": "UX10RIRSVKNP",
      "execution_count": null,
      "outputs": [
        {
          "output_type": "stream",
          "name": "stdout",
          "text": [
            "                                              feature           labels  \\\n",
            "0                                     Cereals, barley         [barley]   \n",
            "1                     Other fresh or chilled potatoes       [potatoes]   \n",
            "2                      Fruit, edible; cherries, fresh       [cherries]   \n",
            "3           Bran, sharps and other residues, of maize    [maize, bran]   \n",
            "4                                     Cereals, millet        [millets]   \n",
            "..                                                ...              ...   \n",
            "94  Fish; smoked (whether or not cooked before or ...   [smoked, fish]   \n",
            "95                             Fresh/dried grapefruit    [grapefruits]   \n",
            "96  Dairy produce, butter and other fats and oils ...         [butter]   \n",
            "97  Oleic acid (industrial monocarboxylic fatty ac...    [oleic, acid]   \n",
            "98  Disc harrows, used agricultural, etc.f/soil pr...  [disc, harrows]   \n",
            "\n",
            "       clean_labels  number_of_labels  \n",
            "0          [barley]                 1  \n",
            "1        [potatoes]                 1  \n",
            "2        [cherries]                 1  \n",
            "3     [maize, bran]                 2  \n",
            "4         [millets]                 1  \n",
            "..              ...               ...  \n",
            "94   [smoked, fish]                 2  \n",
            "95    [grapefruits]                 1  \n",
            "96         [butter]                 1  \n",
            "97    [oleic, acid]                 2  \n",
            "98  [disc, harrows]                 2  \n",
            "\n",
            "[99 rows x 4 columns]\n"
          ]
        }
      ]
    },
    {
      "cell_type": "code",
      "source": [
        "# Assign the train split\n",
        "X_train = train[[train.columns[i] for i in range(train.shape[1]-1) ]]\n",
        "y_train = train[train.columns[-1]]\n",
        "# Assign the test split\n",
        "X_test = test[[test.columns[i] for i in range(train.shape[1]-1) ]]\n",
        "y_test = test[test.columns[-1]]\n",
        "# Assign the validation split\n",
        "X_val = validation[[validation.columns[i] for i in \n",
        "                    range(validation.shape[1]-1) ]]\n",
        "y_val = validation[validation.columns[-1]]\n",
        "\n",
        "# Print the sets data shapes\n",
        "print(\"X_train shape: {}\".format(X_train.shape))\n",
        "print(\"X_test shape: {}\".format(X_test.shape))\n",
        "print(\"y_train shape: {}\".format(y_train.shape))\n",
        "print(\"y_test shape: {}\".format(y_test.shape))\n",
        "print(\"X_val shape: {}\".format(X_val.shape))\n",
        "print(\"y_val shape: {}\".format(y_val.shape))"
      ],
      "metadata": {
        "colab": {
          "base_uri": "https://localhost:8080/"
        },
        "id": "5dDHvxCaKhs4",
        "outputId": "ec373aa7-77a7-493c-eab2-d4f94f7bf7f9"
      },
      "id": "5dDHvxCaKhs4",
      "execution_count": null,
      "outputs": [
        {
          "output_type": "stream",
          "name": "stdout",
          "text": [
            "X_train shape: (99, 0)\n",
            "X_test shape: (13238, 0)\n",
            "y_train shape: (99,)\n",
            "y_test shape: (13238,)\n",
            "X_val shape: (15, 1)\n",
            "y_val shape: (15,)\n"
          ]
        }
      ]
    },
    {
      "cell_type": "markdown",
      "source": [
        "**Initialize the model**"
      ],
      "metadata": {
        "id": "AtiW2Us-3ma9"
      },
      "id": "AtiW2Us-3ma9"
    },
    {
      "cell_type": "code",
      "source": [
        "\n",
        "import os\n",
        "import pandas as pd\n",
        "import nltk\n",
        "import gensim\n",
        "from gensim import corpora, models, similarities\n",
        "\n",
        "x=train['labels'].values.tolist()\n",
        "y=test['name'].values.tolist()\n",
        "\n",
        "corpus= x+y\n",
        "  \n",
        "tok_corp= [nltk.word_tokenize(text) for text in corpus]\n",
        "       \n",
        "           \n",
        "model = gensim.models.Word2Vec(tok_corp, min_count=1, size = 32)\n",
        "\n",
        "#model.save('testmodel')\n",
        "#model = gensim.models.Word2Vec.load('test_model')\n",
        "#model.most_similar('word')\n",
        "#model.most_similar([vector])"
      ],
      "metadata": {
        "id": "D3fHpPcjkT6U"
      },
      "id": "D3fHpPcjkT6U",
      "execution_count": null,
      "outputs": []
    },
    {
      "cell_type": "markdown",
      "source": [
        "**Training the Word2Vec Model**\n",
        "\n",
        "Train the model for reviews. Use a window of size 10 i.e. 10 words before the present word and 10 words ahead. A sentence with at least 2 words should only be considered, configure this using min_count parameter.\n",
        "\n",
        "Workers define how many CPU threads to be used."
      ],
      "metadata": {
        "id": "DHeXBhBx3hr0"
      },
      "id": "DHeXBhBx3hr0"
    },
    {
      "cell_type": "markdown",
      "source": [
        "**Build Vocabulary**"
      ],
      "metadata": {
        "id": "LTlsQSiN3oT0"
      },
      "id": "LTlsQSiN3oT0"
    },
    {
      "cell_type": "code",
      "source": [
        "model.train(corpus, total_examples=model.corpus_count, epochs=model.epochs)"
      ],
      "metadata": {
        "colab": {
          "base_uri": "https://localhost:8080/"
        },
        "id": "mer6YXEe3did",
        "outputId": "4517c92e-8fbd-45d2-fb38-7b205ecc9956"
      },
      "id": "mer6YXEe3did",
      "execution_count": null,
      "outputs": [
        {
          "output_type": "execute_result",
          "data": {
            "text/plain": [
              "(2421795, 3121470)"
            ]
          },
          "metadata": {},
          "execution_count": 175
        }
      ]
    },
    {
      "cell_type": "markdown",
      "source": [
        "**Save the Model**"
      ],
      "metadata": {
        "id": "OHQJlfXh3tKs"
      },
      "id": "OHQJlfXh3tKs"
    },
    {
      "cell_type": "markdown",
      "source": [
        "**Finding Similar Words and Similarity between words**"
      ],
      "metadata": {
        "id": "lUor4-4t3zFR"
      },
      "id": "lUor4-4t3zFR"
    },
    {
      "cell_type": "code",
      "source": [
        "model.wv.most_similar(\"fruit\")"
      ],
      "metadata": {
        "colab": {
          "base_uri": "https://localhost:8080/"
        },
        "id": "pOnRs7mu3dqf",
        "outputId": "c5b5d0ea-aa0a-4afb-a1c2-424d3df45270"
      },
      "id": "pOnRs7mu3dqf",
      "execution_count": null,
      "outputs": [
        {
          "output_type": "execute_result",
          "data": {
            "text/plain": [
              "[('lead', 0.9990960359573364),\n",
              " ('leather', 0.999078631401062),\n",
              " ('tubes', 0.998991847038269),\n",
              " ('metal', 0.9988697171211243),\n",
              " ('Other', 0.9987651109695435),\n",
              " ('base', 0.9987649321556091),\n",
              " ('valves', 0.9987096786499023),\n",
              " ('Fresh/chilled', 0.9986755847930908),\n",
              " ('machinery', 0.998660147190094),\n",
              " ('those', 0.9986047148704529)]"
            ]
          },
          "metadata": {},
          "execution_count": 176
        }
      ]
    },
    {
      "cell_type": "code",
      "source": [
        "model.wv.similarity(w1=\"cereals\", w2=\"animal\")"
      ],
      "metadata": {
        "colab": {
          "base_uri": "https://localhost:8080/"
        },
        "id": "fOYCredO3ds_",
        "outputId": "40f594cc-a9e9-4c52-b05e-2654b8f717e8"
      },
      "id": "fOYCredO3ds_",
      "execution_count": null,
      "outputs": [
        {
          "output_type": "execute_result",
          "data": {
            "text/plain": [
              "0.99060804"
            ]
          },
          "metadata": {},
          "execution_count": 177
        }
      ]
    },
    {
      "cell_type": "code",
      "source": [
        "model.wv.similarity(w1=\"horse\", w2=\"potatoes\")"
      ],
      "metadata": {
        "colab": {
          "base_uri": "https://localhost:8080/"
        },
        "id": "zKjAyAHh6ba8",
        "outputId": "19de6dd6-c74e-4280-f023-d7db9979778f"
      },
      "id": "zKjAyAHh6ba8",
      "execution_count": null,
      "outputs": [
        {
          "output_type": "execute_result",
          "data": {
            "text/plain": [
              "0.9653631"
            ]
          },
          "metadata": {},
          "execution_count": 178
        }
      ]
    },
    {
      "cell_type": "code",
      "source": [
        "\n",
        "#model.save(\"word2vec.model\")"
      ],
      "metadata": {
        "id": "PiYjk6Vq7es6"
      },
      "id": "PiYjk6Vq7es6",
      "execution_count": null,
      "outputs": []
    },
    {
      "cell_type": "code",
      "source": [
        "\n",
        "\n",
        "#Create a dataframe containig the final vectors\n",
        "vectorized_text = pd.DataFrame(tok_corp)\n",
        "\n",
        "vectorized_text"
      ],
      "metadata": {
        "id": "KVyocNccPhRn"
      },
      "id": "KVyocNccPhRn",
      "execution_count": null,
      "outputs": []
    },
    {
      "cell_type": "markdown",
      "source": [
        ""
      ],
      "metadata": {
        "id": "fPNn3Z2d-fmP"
      },
      "id": "fPNn3Z2d-fmP"
    },
    {
      "cell_type": "code",
      "source": [
        ""
      ],
      "metadata": {
        "id": "xcy7HzBY-fwL"
      },
      "id": "xcy7HzBY-fwL",
      "execution_count": null,
      "outputs": []
    },
    {
      "cell_type": "code",
      "source": [
        "from gensim.models.callbacks import CallbackAny2Vec\n",
        "from gensim.models import Word2Vec\n",
        "\n",
        "# init callback class\n",
        "class callback(CallbackAny2Vec):\n",
        "    \"\"\"\n",
        "    Callback to print loss after each epoch\n",
        "    \"\"\"\n",
        "    def __init__(self):\n",
        "        self.epoch = 0\n",
        "\n",
        "    def on_epoch_end(self, model):\n",
        "        loss = model.get_latest_training_loss()\n",
        "        \n",
        "        if self.epoch == 0:\n",
        "            print('Loss after epoch {}: {}'.format(self.epoch, loss))\n",
        "        elif self.epoch % 100 == 0:\n",
        "            print('Loss after epoch {}: {}'.format(self.epoch, loss- self.loss_previous_step))\n",
        "        \n",
        "        \n",
        "        self.epoch += 1\n",
        "        self.loss_previous_step = loss"
      ],
      "metadata": {
        "id": "--8yAYc1-bsx"
      },
      "id": "--8yAYc1-bsx",
      "execution_count": null,
      "outputs": []
    },
    {
      "cell_type": "code",
      "source": [
        "# init word2vec class\n",
        "from time import sleep\n",
        "w2v_model = Word2Vec(size = 300,\n",
        "                     window = 15,\n",
        "                     min_count = 2,\n",
        "                     workers = 20,\n",
        "                     sg = 1,\n",
        "                     negative = 5,\n",
        "                     sample = 1e-5)\n",
        "# build vovab\n",
        "\n",
        "\n",
        "w2v_model.build_vocab(sent)\n",
        "\n",
        "import time\n",
        "  \n",
        "# train the w2v model\n",
        "start = time.time()\n",
        "\n",
        "w2v_model.train(sent, \n",
        "                total_examples=w2v_model.corpus_count, \n",
        "                epochs=1001, \n",
        "                report_delay=1,\n",
        "                compute_loss = True, # set compute_loss = True\n",
        "                callbacks=[callback()]) # add the callback class\n",
        "end = time.time()\n",
        "\n",
        "\n",
        "print(\"elapsedtime in seconds :\"+ str(end - start))\n",
        "# save the word2vec model"
      ],
      "metadata": {
        "colab": {
          "base_uri": "https://localhost:8080/"
        },
        "id": "_dt290MJ-bvp",
        "outputId": "66c9a194-2df8-4577-b2af-624d5eabf9a8"
      },
      "id": "_dt290MJ-bvp",
      "execution_count": null,
      "outputs": [
        {
          "output_type": "stream",
          "name": "stdout",
          "text": [
            "Loss after epoch 0: 0.0\n",
            "Loss after epoch 100: 0.0\n",
            "Loss after epoch 200: 0.0\n",
            "Loss after epoch 300: 0.0\n",
            "Loss after epoch 400: 0.0\n",
            "Loss after epoch 500: 0.0\n",
            "Loss after epoch 600: 0.0\n",
            "Loss after epoch 700: 0.0\n",
            "Loss after epoch 800: 0.0\n",
            "Loss after epoch 900: 0.0\n",
            "Loss after epoch 1000: 0.0\n",
            "elapsedtime in seconds :6.335287094116211\n"
          ]
        }
      ]
    },
    {
      "cell_type": "code",
      "source": [
        "model.save(\"word2vec.model\")"
      ],
      "metadata": {
        "id": "N52mHPyd-by7"
      },
      "id": "N52mHPyd-by7",
      "execution_count": null,
      "outputs": []
    },
    {
      "cell_type": "code",
      "source": [
        "reloaded_w2v_model = Word2Vec.load('word2vec.model')\n",
        "words = list(reloaded_w2v_model.wv.vocab)\n",
        "print('Vocab size: '+str(len(words)))\n",
        "w1 = 'animal'\n",
        "print(\"Top 3 words similar to animal:\",\\\n",
        "      reloaded_w2v_model.wv.most_similar(positive = w1,topn =3))\n",
        "w1 = 'cereal'\n",
        "print(\"Top 3 words similar to cereal:\",\\\n",
        "      reloaded_w2v_model.wv.most_similar(positive = w1,topn =3))\n",
        "print(\"Similarity between animal and cereal:\"+\\\n",
        "      str(reloaded_w2v_model.wv.similarity(w1=\"animal\",w2=\"cereal\")))\n",
        "print(\"Similarity between animal and leather:\"+\\\n",
        "      str(reloaded_w2v_model.wv.similarity(w1=\"animal\",w2=\"leather\")))"
      ],
      "metadata": {
        "colab": {
          "base_uri": "https://localhost:8080/"
        },
        "id": "DRJVFXrG-b5N",
        "outputId": "615fa053-fb67-4e49-e4dc-933f1dfa6667"
      },
      "id": "DRJVFXrG-b5N",
      "execution_count": null,
      "outputs": [
        {
          "output_type": "stream",
          "name": "stdout",
          "text": [
            "Vocab size: 15654\n",
            "Top 3 words similar to animal: [('wool', 0.9990599155426025), ('hair', 0.9985626935958862), ('fine', 0.9979420900344849)]\n",
            "Top 3 words similar to cereal: [('recording', 0.9961655735969543), ('working', 0.9961566925048828), (\"'s\", 0.996096670627594)]\n",
            "Similarity between animal and cereal:0.98918587\n",
            "Similarity between animal and leather:0.98562074\n"
          ]
        }
      ]
    },
    {
      "cell_type": "markdown",
      "source": [
        "Let us use TSNE to do reduce features"
      ],
      "metadata": {
        "id": "g82Oyrje_fwt"
      },
      "id": "g82Oyrje_fwt"
    },
    {
      "cell_type": "code",
      "source": [
        "from sklearn.manifold import TSNE                   # final reduction\n",
        "import numpy as np                                  # array handling\n",
        "\n",
        "\n",
        "def reduce_dimensions(model):\n",
        "    num_dimensions = 2  # final num dimensions (2D, 3D, etc)\n",
        "\n",
        "    vectors = [] # positions in vector space\n",
        "    labels = [] # keep track of words to label our data again later\n",
        "    for word in model.wv.vocab:\n",
        "        vectors.append(model.wv[word])\n",
        "        labels.append(word)\n",
        "\n",
        "    # convert both lists into numpy vectors for reduction\n",
        "    vectors = np.asarray(vectors)\n",
        "    #labels = np.asarray(labels)\n",
        "\n",
        "    # reduce using t-SNE\n",
        "    vectors = np.asarray(vectors)\n",
        "    tsne = TSNE(n_components=num_dimensions, random_state=0)\n",
        "    vectors = tsne.fit_transform(vectors)\n",
        "\n",
        "    x_vals = [v[0] for v in vectors]\n",
        "    y_vals = [v[1] for v in vectors]\n",
        "    return x_vals, y_vals, labels\n",
        "\n",
        "\n",
        "x_vals, y_vals, labels = reduce_dimensions(reloaded_w2v_model)"
      ],
      "metadata": {
        "colab": {
          "base_uri": "https://localhost:8080/"
        },
        "id": "3q-Oeq1a-b9s",
        "outputId": "7a6cdf50-c4f5-4b68-ca42-00cc27d77aef"
      },
      "id": "3q-Oeq1a-b9s",
      "execution_count": null,
      "outputs": [
        {
          "output_type": "stream",
          "name": "stderr",
          "text": [
            "/usr/local/lib/python3.7/dist-packages/sklearn/manifold/_t_sne.py:783: FutureWarning: The default initialization in TSNE will change from 'random' to 'pca' in 1.2.\n",
            "  FutureWarning,\n",
            "/usr/local/lib/python3.7/dist-packages/sklearn/manifold/_t_sne.py:793: FutureWarning: The default learning rate in TSNE will change from 200.0 to 'auto' in 1.2.\n",
            "  FutureWarning,\n"
          ]
        }
      ]
    },
    {
      "cell_type": "code",
      "source": [
        ""
      ],
      "metadata": {
        "id": "-I1nMXw5-cAD"
      },
      "id": "-I1nMXw5-cAD",
      "execution_count": null,
      "outputs": []
    },
    {
      "cell_type": "code",
      "source": [
        ""
      ],
      "metadata": {
        "id": "PweC3nYj-cCm"
      },
      "id": "PweC3nYj-cCm",
      "execution_count": null,
      "outputs": []
    },
    {
      "cell_type": "code",
      "source": [
        ""
      ],
      "metadata": {
        "id": "Uz6h3mpc-cFa"
      },
      "id": "Uz6h3mpc-cFa",
      "execution_count": null,
      "outputs": []
    },
    {
      "cell_type": "code",
      "source": [
        ""
      ],
      "metadata": {
        "id": "XOQaxT3E-cH8"
      },
      "id": "XOQaxT3E-cH8",
      "execution_count": null,
      "outputs": []
    },
    {
      "cell_type": "code",
      "source": [
        "#Word2Vec\n",
        "# Word2Vec runs on tokenized sentences\n",
        "X_train_tok= [nltk.word_tokenize(i) for i in X_train]  \n",
        "X_test_tok= [nltk.word_tokenize(i) for i in X_test]"
      ],
      "metadata": {
        "id": "ewpWlKP7WgkB"
      },
      "id": "ewpWlKP7WgkB",
      "execution_count": null,
      "outputs": []
    },
    {
      "cell_type": "code",
      "source": [
        "# bag of words\n",
        "from sklearn.feature_extraction.text import TfidfVectorizer\n",
        "from sklearn.feature_extraction.text import CountVectorizer\n",
        "\n",
        "tfidf_vectorizer = TfidfVectorizer(use_idf=True)\n",
        "X_train_vectors_tfidf = vectorized_text.fit_transform(X_train) \n",
        "X_test_vectors_tfidf = vectorized_text.transform(X_test)"
      ],
      "metadata": {
        "id": "CuBGgqddWFNg"
      },
      "id": "CuBGgqddWFNg",
      "execution_count": null,
      "outputs": []
    },
    {
      "cell_type": "code",
      "source": [
        "df3.head()"
      ],
      "metadata": {
        "id": "xWz239G0jeEp"
      },
      "id": "xWz239G0jeEp",
      "execution_count": null,
      "outputs": []
    },
    {
      "cell_type": "code",
      "source": [
        ""
      ],
      "metadata": {
        "id": "P9LBmMvOjeHM"
      },
      "id": "P9LBmMvOjeHM",
      "execution_count": null,
      "outputs": []
    },
    {
      "cell_type": "markdown",
      "source": [
        "#BERT MODEL FOR TEXT CLASSIFICATION FOR UNSPUERVISED DATA"
      ],
      "metadata": {
        "id": "dPphZXbpSUiA"
      },
      "id": "dPphZXbpSUiA"
    },
    {
      "cell_type": "code",
      "source": [
        "!pip install bert-serving-server  # server\n",
        "!pip install bert-serving-client  # client, independent of `bert-serving-server`"
      ],
      "metadata": {
        "colab": {
          "base_uri": "https://localhost:8080/"
        },
        "id": "eLoOwdQ7TXb_",
        "outputId": "05f27094-d8b3-4109-f67e-35eb2699599b"
      },
      "id": "eLoOwdQ7TXb_",
      "execution_count": null,
      "outputs": [
        {
          "output_type": "stream",
          "name": "stdout",
          "text": [
            "Requirement already satisfied: bert-serving-server in /usr/local/lib/python3.7/dist-packages (1.10.0)\n",
            "Requirement already satisfied: GPUtil>=1.3.0 in /usr/local/lib/python3.7/dist-packages (from bert-serving-server) (1.4.0)\n",
            "Requirement already satisfied: pyzmq>=17.1.0 in /usr/local/lib/python3.7/dist-packages (from bert-serving-server) (22.3.0)\n",
            "Requirement already satisfied: numpy in /usr/local/lib/python3.7/dist-packages (from bert-serving-server) (1.21.6)\n",
            "Requirement already satisfied: six in /usr/local/lib/python3.7/dist-packages (from bert-serving-server) (1.15.0)\n",
            "Requirement already satisfied: termcolor>=1.1 in /usr/local/lib/python3.7/dist-packages (from bert-serving-server) (1.1.0)\n",
            "Requirement already satisfied: bert-serving-client in /usr/local/lib/python3.7/dist-packages (1.10.0)\n",
            "Requirement already satisfied: numpy in /usr/local/lib/python3.7/dist-packages (from bert-serving-client) (1.21.6)\n",
            "Requirement already satisfied: pyzmq>=17.1.0 in /usr/local/lib/python3.7/dist-packages (from bert-serving-client) (22.3.0)\n"
          ]
        }
      ]
    },
    {
      "cell_type": "code",
      "source": [
        "\n",
        "train = pd.DataFrame(df3.labels)\n",
        "test = pd.DataFrame(dfA.name)"
      ],
      "metadata": {
        "id": "C-5mH_BE9N5C"
      },
      "id": "C-5mH_BE9N5C",
      "execution_count": null,
      "outputs": []
    },
    {
      "cell_type": "code",
      "source": [
        "#SPLITTING THE TRAINING DATASET INTO TRAIN AND TEST\n",
        "# Assign the train split\n",
        "X_train = train[[train.columns[i] for i in range(train.shape[1]-1) ]]\n",
        "y_train = train[train.columns[-1]]\n",
        "# Assign the test split\n",
        "X_test = test[[test.columns[i] for i in range(train.shape[1]-1) ]]\n",
        "y_test = test[test.columns[-1]]\n",
        "# Assign the validation split\n",
        "X_val = validation[[validation.columns[i] for i in \n",
        "                    range(validation.shape[1]-1) ]]\n",
        "y_val = validation[validation.columns[-1]]\n",
        "\n",
        "# Print the sets data shapes\n",
        "print(\"X_train shape: {}\".format(X_train.shape))\n",
        "print(\"X_test shape: {}\".format(X_test.shape))\n",
        "print(\"y_train shape: {}\".format(y_train.shape))\n",
        "print(\"y_test shape: {}\".format(y_test.shape))\n",
        "print(\"X_val shape: {}\".format(X_val.shape))\n",
        "print(\"y_val shape: {}\".format(y_val.shape))\n",
        "\n"
      ],
      "metadata": {
        "colab": {
          "base_uri": "https://localhost:8080/"
        },
        "id": "1lUDj-I6P6Uw",
        "outputId": "c8899b3e-6574-433a-aab7-d5ac8669c209"
      },
      "id": "1lUDj-I6P6Uw",
      "execution_count": null,
      "outputs": [
        {
          "output_type": "stream",
          "name": "stdout",
          "text": [
            "X_train shape: (99, 0)\n",
            "X_test shape: (13238, 0)\n",
            "y_train shape: (99,)\n",
            "y_test shape: (13238,)\n",
            "X_val shape: (15, 1)\n",
            "y_val shape: (15,)\n"
          ]
        }
      ]
    },
    {
      "cell_type": "code",
      "source": [
        "from sklearn.preprocessing import MultiLabelBinarizer\n",
        "mlb = MultiLabelBinarizer()\n",
        "yt = mlb.fit_transform(y)\n",
        "# Getting a sense of how the tags data looks like\n",
        "print(yt[0])\n",
        "print(mlb.inverse_transform(yt[0].reshape(1,-1)))\n",
        "print(mlb.classes_)"
      ],
      "metadata": {
        "colab": {
          "base_uri": "https://localhost:8080/"
        },
        "id": "gv4so7f9uR5I",
        "outputId": "90426007-d69a-4dd1-8952-2f9973441cae"
      },
      "id": "gv4so7f9uR5I",
      "execution_count": null,
      "outputs": [
        {
          "output_type": "stream",
          "name": "stdout",
          "text": [
            "[1 0 0 0 0 0 0 0 0 0 1 1 0 0 0 0 0 0 0 0 0 0 0 0 0 1 0 0 0 0 0 0 0 0 0 0 0\n",
            " 1 0 0 0 0 0 0 0 0 0 0 0 0 0 0 0 0 0 0 0 0 0 1 1 0 1 1 0 1 1 1 0 0 1 1 1 1\n",
            " 1 0 1 1 0 1 1 0 0 0 0 0 0 0 0 0 0 0 0 0 0 0 0 0 0 0 0 0 0 0 0 0 0]\n",
            "[(' ', ',', '-', ';', 'H', 'a', 'b', 'd', 'e', 'g', 'h', 'i', 'l', 'm', 'n', 'o', 'p', 'r', 's', 'u', 'v')]\n",
            "[' ' '\"' '$' '%' '&' \"'\" '(' ')' '*' '+' ',' '-' '.' '/' '0' '1' '2' '3'\n",
            " '4' '5' '6' '7' '8' '9' ':' ';' '<' '=' '>' '?' 'A' 'B' 'C' 'D' 'E' 'F'\n",
            " 'G' 'H' 'I' 'J' 'K' 'L' 'M' 'N' 'O' 'P' 'Q' 'R' 'S' 'T' 'U' 'V' 'W' 'X'\n",
            " 'Y' 'Z' '[' ']' '_' 'a' 'b' 'c' 'd' 'e' 'f' 'g' 'h' 'i' 'j' 'k' 'l' 'm'\n",
            " 'n' 'o' 'p' 'q' 'r' 's' 't' 'u' 'v' 'w' 'x' 'y' 'z' '\\x92' '\\x93' '\\x94'\n",
            " '\\x96' '\\xa0' '°' '³' '´' 'º' 'Á' 'ß' 'á' 'â' 'ã' 'ç' 'è' 'é' 'ê' 'í' 'ô'\n",
            " 'õ' 'ú']\n"
          ]
        }
      ]
    },
    {
      "cell_type": "code",
      "source": [
        "!wget https://storage.googleapis.com/bert_models/2018_10_18/uncased_L-12_H-768_A-12.zip && unzip uncased_L-12_H-768_A-12.zip"
      ],
      "metadata": {
        "id": "2_V24Q5U25Cd"
      },
      "id": "2_V24Q5U25Cd",
      "execution_count": null,
      "outputs": []
    },
    {
      "cell_type": "code",
      "source": [
        "!bert-serving-start -model_dir uncased_L-12_H-768_A-12/ -num_worker=2 -max_seq_len 50"
      ],
      "metadata": {
        "colab": {
          "base_uri": "https://localhost:8080/"
        },
        "id": "VYVbnUhc3FAG",
        "outputId": "c2096e36-3520-4278-9165-71cfe734c21f"
      },
      "id": "VYVbnUhc3FAG",
      "execution_count": null,
      "outputs": [
        {
          "output_type": "stream",
          "name": "stdout",
          "text": [
            "/usr/local/lib/python3.7/dist-packages/bert_serving/server/helper.py:176: UserWarning: Tensorflow 2.8.0 is not tested! It may or may not work. Feel free to submit an issue at https://github.com/hanxiao/bert-as-service/issues/\n",
            "  'Feel free to submit an issue at https://github.com/hanxiao/bert-as-service/issues/' % tf.__version__)\n",
            "usage: /usr/local/bin/bert-serving-start -model_dir uncased_L-12_H-768_A-12/ -num_worker=2 -max_seq_len 50\n",
            "                 ARG   VALUE\n",
            "__________________________________________________\n",
            "           ckpt_name = bert_model.ckpt\n",
            "         config_name = bert_config.json\n",
            "                cors = *\n",
            "                 cpu = False\n",
            "          device_map = []\n",
            "       do_lower_case = True\n",
            "  fixed_embed_length = False\n",
            "                fp16 = False\n",
            " gpu_memory_fraction = 0.5\n",
            "       graph_tmp_dir = None\n",
            "    http_max_connect = 10\n",
            "           http_port = None\n",
            "        mask_cls_sep = False\n",
            "      max_batch_size = 256\n",
            "         max_seq_len = 50\n",
            "           model_dir = uncased_L-12_H-768_A-12/\n",
            "no_position_embeddings = False\n",
            "    no_special_token = False\n",
            "          num_worker = 2\n",
            "       pooling_layer = [-2]\n",
            "    pooling_strategy = REDUCE_MEAN\n",
            "                port = 5555\n",
            "            port_out = 5556\n",
            "       prefetch_size = 10\n",
            " priority_batch_size = 16\n",
            "show_tokens_to_client = False\n",
            "     tuned_model_dir = None\n",
            "             verbose = False\n",
            "                 xla = False\n",
            "\n",
            "I:\u001b[35mVENTILATOR\u001b[0m:[__i:__i: 67]:freeze, optimize and export graph, could take a while...\n",
            "E:\u001b[36mGRAPHOPT\u001b[0m:[gra:opt:154]:fail to optimize the graph!\n",
            "Traceback (most recent call last):\n",
            "  File \"/usr/local/lib/python3.7/dist-packages/bert_serving/server/graph.py\", line 42, in optimize_graph\n",
            "    tf = import_tf(verbose=args.verbose)\n",
            "  File \"/usr/local/lib/python3.7/dist-packages/bert_serving/server/helper.py\", line 186, in import_tf\n",
            "    tf.logging.set_verbosity(tf.logging.DEBUG if verbose else tf.logging.ERROR)\n",
            "AttributeError: module 'tensorflow' has no attribute 'logging'\n",
            "Traceback (most recent call last):\n",
            "  File \"/usr/local/bin/bert-serving-start\", line 8, in <module>\n",
            "    sys.exit(main())\n",
            "  File \"/usr/local/lib/python3.7/dist-packages/bert_serving/server/cli/__init__.py\", line 4, in main\n",
            "    with BertServer(get_run_args()) as server:\n",
            "  File \"/usr/local/lib/python3.7/dist-packages/bert_serving/server/__init__.py\", line 71, in __init__\n",
            "    self.graph_path, self.bert_config = pool.apply(optimize_graph, (self.args,))\n",
            "TypeError: cannot unpack non-iterable NoneType object\n"
          ]
        }
      ]
    },
    {
      "cell_type": "code",
      "source": [
        "from bert_serving.client import BertClient\n",
        "\n",
        "# make a connection with the BERT server using it's ip address\n",
        "bc = BertClient()\n",
        "# get the embedding for train and val sets\n",
        "X_tr_bert = bc.encode(X_tr.tolist())\n",
        "X_val_bert = bc.encode(X_val.tolist())"
      ],
      "metadata": {
        "id": "KLaQrKzBw2W3"
      },
      "id": "KLaQrKzBw2W3",
      "execution_count": null,
      "outputs": []
    },
    {
      "cell_type": "code",
      "source": [
        "from sklearn.linear_model import LogisticRegression\n",
        "\n",
        "# LR model\n",
        "model_bert = LogisticRegression()\n",
        "# train\n",
        "model_bert = model_bert.fit(X_train, y_test)\n",
        "# predict\n",
        "pred_bert = model_bert.predict(X_val)"
      ],
      "metadata": {
        "id": "p_7Z5UlosNV8"
      },
      "id": "p_7Z5UlosNV8",
      "execution_count": null,
      "outputs": []
    },
    {
      "cell_type": "code",
      "source": [
        "\n",
        "from sklearn.metrics import accuracy_score\n",
        "\n",
        "print(accuracy_score(y_val, pred_bert)"
      ],
      "metadata": {
        "id": "jGGv3lbsSj_U"
      },
      "id": "jGGv3lbsSj_U",
      "execution_count": null,
      "outputs": []
    },
    {
      "cell_type": "code",
      "source": [
        "from bert_serving.client import BertClient\n",
        "\n",
        "# make a connection with the BERT server using it's ip address; do not give any ip if same computer\n",
        "bc = BertClient(ip=\"nEW_sERVER\")\n",
        "# get the embedding\n",
        "embedding = bc.encode([\"I love data science and analytics vidhya.\"])\n",
        "# check the shape of embedding, it should be 1x768\n",
        "print(embedding.shape)"
      ],
      "metadata": {
        "id": "tzwoO8wbTFZu"
      },
      "id": "tzwoO8wbTFZu",
      "execution_count": null,
      "outputs": []
    },
    {
      "cell_type": "code",
      "source": [
        "\n",
        "from sklearn.metrics import accuracy_score\n",
        "\n",
        "print(accuracy_score(y_val, pred_bert)"
      ],
      "metadata": {
        "id": "qU8hrjy_xXfI"
      },
      "id": "qU8hrjy_xXfI",
      "execution_count": null,
      "outputs": []
    },
    {
      "cell_type": "code",
      "source": [
        "from sklearn.datasets import make_regression\n",
        "from sklearn.multioutput import MultiOutputRegressor\n",
        "from sklearn.ensemble import GradientBoostingRegressor\n",
        "\n",
        "\n",
        " X, y = make_regression(n_samples=10, n_targets=3, random_state=1)\n",
        " \n",
        " MultiOutputRegressor(GradientBoostingRegressor(random_state=0)).fit(X, y).predict(X)\n"
      ],
      "metadata": {
        "id": "Sgy-NNsZmkEx"
      },
      "id": "Sgy-NNsZmkEx",
      "execution_count": null,
      "outputs": []
    },
    {
      "cell_type": "code",
      "source": [
        "X = df1.features\n",
        "y = df3.labels\n",
        "X_train, X_test, y_train, y_test = train_test_split(X, y, test_size=0.3, random_state = 42)"
      ],
      "metadata": {
        "id": "Ulw2GO2VmkSL"
      },
      "id": "Ulw2GO2VmkSL",
      "execution_count": null,
      "outputs": []
    },
    {
      "cell_type": "markdown",
      "source": [
        "Training model Classification"
      ],
      "metadata": {
        "id": "HEhHUi7jTyQ9"
      },
      "id": "HEhHUi7jTyQ9"
    },
    {
      "cell_type": "code",
      "source": [
        "\n",
        "from sklearn.linear_model import LogisticRegression\n",
        "\n",
        "# LR model\n",
        "model_bert = LogisticRegression()\n",
        "# train\n",
        "model_bert = model_bert.fit(x_tr, y_tr)\n",
        "# predict\n",
        "pred_bert = model_bert.predict(X_val_bert)"
      ],
      "metadata": {
        "id": "HLfGkQHGSkB_"
      },
      "id": "HLfGkQHGSkB_",
      "execution_count": null,
      "outputs": []
    },
    {
      "cell_type": "code",
      "source": [
        "\n",
        "from sklearn.metrics import accuracy_score\n",
        "\n",
        "print(accuracy_score(y_val, pred_bert))"
      ],
      "metadata": {
        "id": "mbtFw9JoSkEa"
      },
      "id": "mbtFw9JoSkEa",
      "execution_count": null,
      "outputs": []
    },
    {
      "cell_type": "code",
      "source": [
        "# set aside 20% of train and test data for evaluation\n",
        "X_train, X_test, y_train, y_test = train_test_split(train, test,\n",
        "    test_size=0.2, shuffle = True, random_state = 8)\n",
        "\n",
        "# Use the same function above for the validation set\n",
        "X_train, X_val, y_train, y_val = train_test_split(X_train, y_train, \n",
        "    test_size=0.25, random_state= 8) # 0.25 x 0.8 = 0.2\n",
        "\n",
        "\n",
        "print(\"X_train shape: {}\".format(X_train.shape))\n",
        "print(\"X_test shape: {}\".format(X_test.shape))\n",
        "print(\"y_train shape: {}\".format(y_train.shape))\n",
        "print(\"y_test shape: {}\".format(y_test.shape))\n",
        "print(\"X_val shape: {}\".format(y_train.shape))\n",
        "print(\"y val shape: {}\".format(y_test.shape))"
      ],
      "metadata": {
        "colab": {
          "base_uri": "https://localhost:8080/",
          "height": 399
        },
        "id": "fmc-Fxv23Drz",
        "outputId": "1150fd42-abe3-4b5e-9c9f-2076e6dedac4"
      },
      "id": "fmc-Fxv23Drz",
      "execution_count": null,
      "outputs": [
        {
          "output_type": "error",
          "ename": "ValueError",
          "evalue": "ignored",
          "traceback": [
            "\u001b[0;31m---------------------------------------------------------------------------\u001b[0m",
            "\u001b[0;31mValueError\u001b[0m                                Traceback (most recent call last)",
            "\u001b[0;32m<ipython-input-231-c6b3987a5705>\u001b[0m in \u001b[0;36m<module>\u001b[0;34m()\u001b[0m\n\u001b[1;32m      1\u001b[0m \u001b[0;31m# set aside 20% of train and test data for evaluation\u001b[0m\u001b[0;34m\u001b[0m\u001b[0;34m\u001b[0m\u001b[0;34m\u001b[0m\u001b[0m\n\u001b[1;32m      2\u001b[0m X_train, X_test, y_train, y_test = train_test_split(train, test,\n\u001b[0;32m----> 3\u001b[0;31m     test_size=0.2, shuffle = True, random_state = 8)\n\u001b[0m\u001b[1;32m      4\u001b[0m \u001b[0;34m\u001b[0m\u001b[0m\n\u001b[1;32m      5\u001b[0m \u001b[0;31m# Use the same function above for the validation set\u001b[0m\u001b[0;34m\u001b[0m\u001b[0;34m\u001b[0m\u001b[0;34m\u001b[0m\u001b[0m\n",
            "\u001b[0;32m/usr/local/lib/python3.7/dist-packages/sklearn/model_selection/_split.py\u001b[0m in \u001b[0;36mtrain_test_split\u001b[0;34m(test_size, train_size, random_state, shuffle, stratify, *arrays)\u001b[0m\n\u001b[1;32m   2415\u001b[0m         \u001b[0;32mraise\u001b[0m \u001b[0mValueError\u001b[0m\u001b[0;34m(\u001b[0m\u001b[0;34m\"At least one array required as input\"\u001b[0m\u001b[0;34m)\u001b[0m\u001b[0;34m\u001b[0m\u001b[0;34m\u001b[0m\u001b[0m\n\u001b[1;32m   2416\u001b[0m \u001b[0;34m\u001b[0m\u001b[0m\n\u001b[0;32m-> 2417\u001b[0;31m     \u001b[0marrays\u001b[0m \u001b[0;34m=\u001b[0m \u001b[0mindexable\u001b[0m\u001b[0;34m(\u001b[0m\u001b[0;34m*\u001b[0m\u001b[0marrays\u001b[0m\u001b[0;34m)\u001b[0m\u001b[0;34m\u001b[0m\u001b[0;34m\u001b[0m\u001b[0m\n\u001b[0m\u001b[1;32m   2418\u001b[0m \u001b[0;34m\u001b[0m\u001b[0m\n\u001b[1;32m   2419\u001b[0m     \u001b[0mn_samples\u001b[0m \u001b[0;34m=\u001b[0m \u001b[0m_num_samples\u001b[0m\u001b[0;34m(\u001b[0m\u001b[0marrays\u001b[0m\u001b[0;34m[\u001b[0m\u001b[0;36m0\u001b[0m\u001b[0;34m]\u001b[0m\u001b[0;34m)\u001b[0m\u001b[0;34m\u001b[0m\u001b[0;34m\u001b[0m\u001b[0m\n",
            "\u001b[0;32m/usr/local/lib/python3.7/dist-packages/sklearn/utils/validation.py\u001b[0m in \u001b[0;36mindexable\u001b[0;34m(*iterables)\u001b[0m\n\u001b[1;32m    376\u001b[0m \u001b[0;34m\u001b[0m\u001b[0m\n\u001b[1;32m    377\u001b[0m     \u001b[0mresult\u001b[0m \u001b[0;34m=\u001b[0m \u001b[0;34m[\u001b[0m\u001b[0m_make_indexable\u001b[0m\u001b[0;34m(\u001b[0m\u001b[0mX\u001b[0m\u001b[0;34m)\u001b[0m \u001b[0;32mfor\u001b[0m \u001b[0mX\u001b[0m \u001b[0;32min\u001b[0m \u001b[0miterables\u001b[0m\u001b[0;34m]\u001b[0m\u001b[0;34m\u001b[0m\u001b[0;34m\u001b[0m\u001b[0m\n\u001b[0;32m--> 378\u001b[0;31m     \u001b[0mcheck_consistent_length\u001b[0m\u001b[0;34m(\u001b[0m\u001b[0;34m*\u001b[0m\u001b[0mresult\u001b[0m\u001b[0;34m)\u001b[0m\u001b[0;34m\u001b[0m\u001b[0;34m\u001b[0m\u001b[0m\n\u001b[0m\u001b[1;32m    379\u001b[0m     \u001b[0;32mreturn\u001b[0m \u001b[0mresult\u001b[0m\u001b[0;34m\u001b[0m\u001b[0;34m\u001b[0m\u001b[0m\n\u001b[1;32m    380\u001b[0m \u001b[0;34m\u001b[0m\u001b[0m\n",
            "\u001b[0;32m/usr/local/lib/python3.7/dist-packages/sklearn/utils/validation.py\u001b[0m in \u001b[0;36mcheck_consistent_length\u001b[0;34m(*arrays)\u001b[0m\n\u001b[1;32m    332\u001b[0m         raise ValueError(\n\u001b[1;32m    333\u001b[0m             \u001b[0;34m\"Found input variables with inconsistent numbers of samples: %r\"\u001b[0m\u001b[0;34m\u001b[0m\u001b[0;34m\u001b[0m\u001b[0m\n\u001b[0;32m--> 334\u001b[0;31m             \u001b[0;34m%\u001b[0m \u001b[0;34m[\u001b[0m\u001b[0mint\u001b[0m\u001b[0;34m(\u001b[0m\u001b[0ml\u001b[0m\u001b[0;34m)\u001b[0m \u001b[0;32mfor\u001b[0m \u001b[0ml\u001b[0m \u001b[0;32min\u001b[0m \u001b[0mlengths\u001b[0m\u001b[0;34m]\u001b[0m\u001b[0;34m\u001b[0m\u001b[0;34m\u001b[0m\u001b[0m\n\u001b[0m\u001b[1;32m    335\u001b[0m         )\n\u001b[1;32m    336\u001b[0m \u001b[0;34m\u001b[0m\u001b[0m\n",
            "\u001b[0;31mValueError\u001b[0m: Found input variables with inconsistent numbers of samples: [48943, 13238]"
          ]
        }
      ]
    },
    {
      "cell_type": "code",
      "source": [
        ""
      ],
      "metadata": {
        "id": "6fPzOi0i3Dur"
      },
      "id": "6fPzOi0i3Dur",
      "execution_count": null,
      "outputs": []
    },
    {
      "cell_type": "code",
      "execution_count": null,
      "id": "cc462dcd",
      "metadata": {
        "id": "cc462dcd",
        "outputId": "f1ccae5c-666e-47e8-c93c-02cfa83ce910",
        "colab": {
          "base_uri": "https://localhost:8080/"
        }
      },
      "outputs": [
        {
          "output_type": "stream",
          "name": "stdout",
          "text": [
            "WARNING:recordlinkage:indexing - performance warning - A full index can result in large number of record pairs.\n"
          ]
        }
      ],
      "source": [
        "indexer = recordlinkage.Index()\n",
        "indexer.full()\n",
        "pairs = indexer.index(dfA, dfB)"
      ]
    },
    {
      "cell_type": "code",
      "source": [
        "import nltk\n",
        "import nltk\n",
        "\n",
        "\n",
        "\n",
        "\n",
        "print(type(pairs))\n",
        "print(len(pairs))\n",
        "print(len(set(pairs)))\n"
      ],
      "metadata": {
        "colab": {
          "base_uri": "https://localhost:8080/"
        },
        "id": "jWLEvh1gb8_0",
        "outputId": "1cc2d397-03d0-477e-b404-38015e41fd76"
      },
      "id": "jWLEvh1gb8_0",
      "execution_count": null,
      "outputs": [
        {
          "output_type": "stream",
          "name": "stdout",
          "text": [
            "<class 'pandas.core.indexes.multi.MultiIndex'>\n",
            "647907434\n"
          ]
        }
      ]
    },
    {
      "cell_type": "markdown",
      "id": "c497e7df",
      "metadata": {
        "id": "c497e7df"
      },
      "source": [
        "With the method ``index``, all possible (and unique) record pairs are\n",
        "made. The method returns a ``pandas.MultiIndex``. The number of pairs is\n",
        "equal to the number of records in ``dfA`` times the number of records in\n",
        "``dfB``."
      ]
    },
    {
      "cell_type": "code",
      "execution_count": null,
      "id": "eacecfa4",
      "metadata": {
        "id": "eacecfa4",
        "outputId": "41386661-6eb2-41e5-c982-e81b854e1a57",
        "colab": {
          "base_uri": "https://localhost:8080/"
        }
      },
      "outputs": [
        {
          "output_type": "stream",
          "name": "stdout",
          "text": [
            "13238 48943 647907434\n"
          ]
        }
      ],
      "source": [
        "print (len(dfA), len(dfB), len(pairs))"
      ]
    },
    {
      "cell_type": "markdown",
      "source": [
        "**Cleaning**"
      ],
      "metadata": {
        "id": "QAJl6cOMZO8s"
      },
      "id": "QAJl6cOMZO8s"
    },
    {
      "cell_type": "code",
      "source": [
        "dfA = pd.DataFrame()\n",
        "for i,token in enumerate(dfA):\n",
        "    dfA.loc[i,'name'] = token.name"
      ],
      "metadata": {
        "id": "6kEwrp2PZW27"
      },
      "id": "6kEwrp2PZW27",
      "execution_count": null,
      "outputs": []
    },
    {
      "cell_type": "code",
      "source": [
        "for token in dfA:\n",
        "    print(token)"
      ],
      "metadata": {
        "id": "j43aN64zZgg0"
      },
      "id": "j43aN64zZgg0",
      "execution_count": null,
      "outputs": []
    },
    {
      "cell_type": "code",
      "source": [
        "## create dtf\n",
        "df = pd.read_csv(\"/content/source_1.csv\")\n",
        "## rename columns\n",
        "df = df.rename(columns={\"category\":\"label\", \"headline\":\"text\"})\n",
        "## print 5 random rows\n",
        "df.sample(5)"
      ],
      "metadata": {
        "colab": {
          "base_uri": "https://localhost:8080/",
          "height": 206
        },
        "id": "b2Uvhcd0ZhGj",
        "outputId": "acdc44b9-bc8f-4049-ec62-815d0263b64c"
      },
      "id": "b2Uvhcd0ZhGj",
      "execution_count": null,
      "outputs": [
        {
          "output_type": "execute_result",
          "data": {
            "text/plain": [
              "          id                                               name\n",
              "1187    1482                                  Stevia rebaudiana\n",
              "12762  12589  Other recor.appar./reprod.of sound, of magneti...\n",
              "8216    7968  Oth.rolled prod.iron/steel, w>=6dm, galv.oth.p...\n",
              "9942    9730  Autom.machines f/sorting, optical post code re...\n",
              "2949    2322             Tiratricol (triac) and its sodium salt"
            ],
            "text/html": [
              "\n",
              "  <div id=\"df-b727fb69-b6e6-48f2-9813-0da98aa0b4ba\">\n",
              "    <div class=\"colab-df-container\">\n",
              "      <div>\n",
              "<style scoped>\n",
              "    .dataframe tbody tr th:only-of-type {\n",
              "        vertical-align: middle;\n",
              "    }\n",
              "\n",
              "    .dataframe tbody tr th {\n",
              "        vertical-align: top;\n",
              "    }\n",
              "\n",
              "    .dataframe thead th {\n",
              "        text-align: right;\n",
              "    }\n",
              "</style>\n",
              "<table border=\"1\" class=\"dataframe\">\n",
              "  <thead>\n",
              "    <tr style=\"text-align: right;\">\n",
              "      <th></th>\n",
              "      <th>id</th>\n",
              "      <th>name</th>\n",
              "    </tr>\n",
              "  </thead>\n",
              "  <tbody>\n",
              "    <tr>\n",
              "      <th>1187</th>\n",
              "      <td>1482</td>\n",
              "      <td>Stevia rebaudiana</td>\n",
              "    </tr>\n",
              "    <tr>\n",
              "      <th>12762</th>\n",
              "      <td>12589</td>\n",
              "      <td>Other recor.appar./reprod.of sound, of magneti...</td>\n",
              "    </tr>\n",
              "    <tr>\n",
              "      <th>8216</th>\n",
              "      <td>7968</td>\n",
              "      <td>Oth.rolled prod.iron/steel, w&gt;=6dm, galv.oth.p...</td>\n",
              "    </tr>\n",
              "    <tr>\n",
              "      <th>9942</th>\n",
              "      <td>9730</td>\n",
              "      <td>Autom.machines f/sorting, optical post code re...</td>\n",
              "    </tr>\n",
              "    <tr>\n",
              "      <th>2949</th>\n",
              "      <td>2322</td>\n",
              "      <td>Tiratricol (triac) and its sodium salt</td>\n",
              "    </tr>\n",
              "  </tbody>\n",
              "</table>\n",
              "</div>\n",
              "      <button class=\"colab-df-convert\" onclick=\"convertToInteractive('df-b727fb69-b6e6-48f2-9813-0da98aa0b4ba')\"\n",
              "              title=\"Convert this dataframe to an interactive table.\"\n",
              "              style=\"display:none;\">\n",
              "        \n",
              "  <svg xmlns=\"http://www.w3.org/2000/svg\" height=\"24px\"viewBox=\"0 0 24 24\"\n",
              "       width=\"24px\">\n",
              "    <path d=\"M0 0h24v24H0V0z\" fill=\"none\"/>\n",
              "    <path d=\"M18.56 5.44l.94 2.06.94-2.06 2.06-.94-2.06-.94-.94-2.06-.94 2.06-2.06.94zm-11 1L8.5 8.5l.94-2.06 2.06-.94-2.06-.94L8.5 2.5l-.94 2.06-2.06.94zm10 10l.94 2.06.94-2.06 2.06-.94-2.06-.94-.94-2.06-.94 2.06-2.06.94z\"/><path d=\"M17.41 7.96l-1.37-1.37c-.4-.4-.92-.59-1.43-.59-.52 0-1.04.2-1.43.59L10.3 9.45l-7.72 7.72c-.78.78-.78 2.05 0 2.83L4 21.41c.39.39.9.59 1.41.59.51 0 1.02-.2 1.41-.59l7.78-7.78 2.81-2.81c.8-.78.8-2.07 0-2.86zM5.41 20L4 18.59l7.72-7.72 1.47 1.35L5.41 20z\"/>\n",
              "  </svg>\n",
              "      </button>\n",
              "      \n",
              "  <style>\n",
              "    .colab-df-container {\n",
              "      display:flex;\n",
              "      flex-wrap:wrap;\n",
              "      gap: 12px;\n",
              "    }\n",
              "\n",
              "    .colab-df-convert {\n",
              "      background-color: #E8F0FE;\n",
              "      border: none;\n",
              "      border-radius: 50%;\n",
              "      cursor: pointer;\n",
              "      display: none;\n",
              "      fill: #1967D2;\n",
              "      height: 32px;\n",
              "      padding: 0 0 0 0;\n",
              "      width: 32px;\n",
              "    }\n",
              "\n",
              "    .colab-df-convert:hover {\n",
              "      background-color: #E2EBFA;\n",
              "      box-shadow: 0px 1px 2px rgba(60, 64, 67, 0.3), 0px 1px 3px 1px rgba(60, 64, 67, 0.15);\n",
              "      fill: #174EA6;\n",
              "    }\n",
              "\n",
              "    [theme=dark] .colab-df-convert {\n",
              "      background-color: #3B4455;\n",
              "      fill: #D2E3FC;\n",
              "    }\n",
              "\n",
              "    [theme=dark] .colab-df-convert:hover {\n",
              "      background-color: #434B5C;\n",
              "      box-shadow: 0px 1px 3px 1px rgba(0, 0, 0, 0.15);\n",
              "      filter: drop-shadow(0px 1px 2px rgba(0, 0, 0, 0.3));\n",
              "      fill: #FFFFFF;\n",
              "    }\n",
              "  </style>\n",
              "\n",
              "      <script>\n",
              "        const buttonEl =\n",
              "          document.querySelector('#df-b727fb69-b6e6-48f2-9813-0da98aa0b4ba button.colab-df-convert');\n",
              "        buttonEl.style.display =\n",
              "          google.colab.kernel.accessAllowed ? 'block' : 'none';\n",
              "\n",
              "        async function convertToInteractive(key) {\n",
              "          const element = document.querySelector('#df-b727fb69-b6e6-48f2-9813-0da98aa0b4ba');\n",
              "          const dataTable =\n",
              "            await google.colab.kernel.invokeFunction('convertToInteractive',\n",
              "                                                     [key], {});\n",
              "          if (!dataTable) return;\n",
              "\n",
              "          const docLinkHtml = 'Like what you see? Visit the ' +\n",
              "            '<a target=\"_blank\" href=https://colab.research.google.com/notebooks/data_table.ipynb>data table notebook</a>'\n",
              "            + ' to learn more about interactive tables.';\n",
              "          element.innerHTML = '';\n",
              "          dataTable['output_type'] = 'display_data';\n",
              "          await google.colab.output.renderOutput(dataTable, element);\n",
              "          const docLink = document.createElement('div');\n",
              "          docLink.innerHTML = docLinkHtml;\n",
              "          element.appendChild(docLink);\n",
              "        }\n",
              "      </script>\n",
              "    </div>\n",
              "  </div>\n",
              "  "
            ]
          },
          "metadata": {},
          "execution_count": 99
        }
      ]
    },
    {
      "cell_type": "code",
      "source": [
        ""
      ],
      "metadata": {
        "id": "nweO4fy6ZhKB"
      },
      "id": "nweO4fy6ZhKB",
      "execution_count": null,
      "outputs": []
    },
    {
      "cell_type": "code",
      "source": [
        ""
      ],
      "metadata": {
        "id": "u4wz_vN2ZhMb"
      },
      "id": "u4wz_vN2ZhMb",
      "execution_count": null,
      "outputs": []
    },
    {
      "cell_type": "markdown",
      "id": "cde2a308",
      "metadata": {
        "id": "cde2a308"
      },
      "source": [
        "Many of these record pairs do not belong to the same person. In case of\n",
        "one-to-one matching, the number of matches should be no more than the\n",
        "number of records in the smallest dataframe. In case of full indexing,\n",
        "``min(len(dfA), len(N_dfB))`` is much smaller than ``len(pairs)``. The\n",
        "``recordlinkage`` module has some more advanced indexing methods to\n",
        "reduce the number of record pairs. Obvious non-matches are left out of\n",
        "the index. Note that if a matching record pair is not included in the\n",
        "index, it can not be matched anymore.\n",
        "\n",
        "One of the most well known indexing methods is named *blocking*. This\n",
        "method includes only record pairs that are identical on one or more\n",
        "stored attributes of the person (or entity in general). The blocking\n",
        "method can be used in the ``recordlinkage`` module."
      ]
    },
    {
      "cell_type": "code",
      "execution_count": null,
      "id": "f5a0bccd",
      "metadata": {
        "id": "f5a0bccd"
      },
      "outputs": [],
      "source": [
        "#Add a block index.\n",
        "\n",
        "from recordlinkage.index import Block\n",
        "\n",
        "indexer = recordlinkage.Index()\n",
        "indexer.add(Block())"
      ]
    },
    {
      "cell_type": "code",
      "source": [
        "!pip install BlockIndex\n",
        "\n",
        "from recordlinkage.index import Block\n",
        "\n",
        "indexer = recordlinkage.BlockIndex(on='name')\n",
        "indexer.index(dfA, dfB)"
      ],
      "metadata": {
        "colab": {
          "base_uri": "https://localhost:8080/",
          "height": 264
        },
        "id": "UR0Jgm8ZWFCA",
        "outputId": "e2c7c4f1-527f-4196-c015-1bbb830ab115"
      },
      "id": "UR0Jgm8ZWFCA",
      "execution_count": null,
      "outputs": [
        {
          "output_type": "stream",
          "name": "stdout",
          "text": [
            "\u001b[31mERROR: Could not find a version that satisfies the requirement BlockIndex (from versions: none)\u001b[0m\n",
            "\u001b[31mERROR: No matching distribution found for BlockIndex\u001b[0m\n"
          ]
        },
        {
          "output_type": "error",
          "ename": "AttributeError",
          "evalue": "ignored",
          "traceback": [
            "\u001b[0;31m---------------------------------------------------------------------------\u001b[0m",
            "\u001b[0;31mAttributeError\u001b[0m                            Traceback (most recent call last)",
            "\u001b[0;32m<ipython-input-84-3d9ca30adac5>\u001b[0m in \u001b[0;36m<module>\u001b[0;34m()\u001b[0m\n\u001b[1;32m      3\u001b[0m \u001b[0;32mfrom\u001b[0m \u001b[0mrecordlinkage\u001b[0m\u001b[0;34m.\u001b[0m\u001b[0mindex\u001b[0m \u001b[0;32mimport\u001b[0m \u001b[0mBlock\u001b[0m\u001b[0;34m\u001b[0m\u001b[0;34m\u001b[0m\u001b[0m\n\u001b[1;32m      4\u001b[0m \u001b[0;34m\u001b[0m\u001b[0m\n\u001b[0;32m----> 5\u001b[0;31m \u001b[0mindexer\u001b[0m \u001b[0;34m=\u001b[0m \u001b[0mrecordlinkage\u001b[0m\u001b[0;34m.\u001b[0m\u001b[0mBlockIndex\u001b[0m\u001b[0;34m(\u001b[0m\u001b[0mon\u001b[0m\u001b[0;34m=\u001b[0m\u001b[0;34m'name'\u001b[0m\u001b[0;34m)\u001b[0m\u001b[0;34m\u001b[0m\u001b[0;34m\u001b[0m\u001b[0m\n\u001b[0m\u001b[1;32m      6\u001b[0m \u001b[0mindexer\u001b[0m\u001b[0;34m.\u001b[0m\u001b[0mindex\u001b[0m\u001b[0;34m(\u001b[0m\u001b[0mdfA\u001b[0m\u001b[0;34m,\u001b[0m \u001b[0mdfB\u001b[0m\u001b[0;34m)\u001b[0m\u001b[0;34m\u001b[0m\u001b[0;34m\u001b[0m\u001b[0m\n",
            "\u001b[0;31mAttributeError\u001b[0m: module 'recordlinkage' has no attribute 'BlockIndex'"
          ]
        }
      ]
    },
    {
      "cell_type": "code",
      "source": [
        "#Add a Sorted Neighbourhood Index.\n",
        "\n",
        "from recordlinkage.index import SortedNeighbourhood\n",
        "\n",
        "indexer = recordlinkage.index.Random\n",
        "indexer.add(SortedNeighbourhood( left_on='name', right_on='name', window=9))\n",
        "\n",
        "indexer.index(dfA, dfB)"
      ],
      "metadata": {
        "colab": {
          "base_uri": "https://localhost:8080/",
          "height": 246
        },
        "id": "jFpdvUUwUoBS",
        "outputId": "3b9b469a-2d20-4f58-eeb4-6cd40784e589"
      },
      "id": "jFpdvUUwUoBS",
      "execution_count": null,
      "outputs": [
        {
          "output_type": "error",
          "ename": "AttributeError",
          "evalue": "ignored",
          "traceback": [
            "\u001b[0;31m---------------------------------------------------------------------------\u001b[0m",
            "\u001b[0;31mAttributeError\u001b[0m                            Traceback (most recent call last)",
            "\u001b[0;32m<ipython-input-86-285bf3cdd5d2>\u001b[0m in \u001b[0;36m<module>\u001b[0;34m()\u001b[0m\n\u001b[1;32m      4\u001b[0m \u001b[0;34m\u001b[0m\u001b[0m\n\u001b[1;32m      5\u001b[0m \u001b[0mindexer\u001b[0m \u001b[0;34m=\u001b[0m \u001b[0mrecordlinkage\u001b[0m\u001b[0;34m.\u001b[0m\u001b[0mindex\u001b[0m\u001b[0;34m.\u001b[0m\u001b[0mRandom\u001b[0m\u001b[0;34m\u001b[0m\u001b[0;34m\u001b[0m\u001b[0m\n\u001b[0;32m----> 6\u001b[0;31m \u001b[0mindexer\u001b[0m\u001b[0;34m.\u001b[0m\u001b[0madd\u001b[0m\u001b[0;34m(\u001b[0m\u001b[0mSortedNeighbourhood\u001b[0m\u001b[0;34m(\u001b[0m \u001b[0mleft_on\u001b[0m\u001b[0;34m=\u001b[0m\u001b[0;34m'name'\u001b[0m\u001b[0;34m,\u001b[0m \u001b[0mright_on\u001b[0m\u001b[0;34m=\u001b[0m\u001b[0;34m'name'\u001b[0m\u001b[0;34m,\u001b[0m \u001b[0mwindow\u001b[0m\u001b[0;34m=\u001b[0m\u001b[0;36m9\u001b[0m\u001b[0;34m)\u001b[0m\u001b[0;34m)\u001b[0m\u001b[0;34m\u001b[0m\u001b[0;34m\u001b[0m\u001b[0m\n\u001b[0m\u001b[1;32m      7\u001b[0m \u001b[0;34m\u001b[0m\u001b[0m\n\u001b[1;32m      8\u001b[0m \u001b[0mindexer\u001b[0m\u001b[0;34m.\u001b[0m\u001b[0mindex\u001b[0m\u001b[0;34m(\u001b[0m\u001b[0mdfA\u001b[0m\u001b[0;34m,\u001b[0m \u001b[0mdfB\u001b[0m\u001b[0;34m)\u001b[0m\u001b[0;34m\u001b[0m\u001b[0;34m\u001b[0m\u001b[0m\n",
            "\u001b[0;31mAttributeError\u001b[0m: type object 'Random' has no attribute 'add'"
          ]
        }
      ]
    },
    {
      "cell_type": "markdown",
      "id": "07ed1531",
      "metadata": {
        "id": "07ed1531"
      },
      "source": [
        "The argument \"given\\_name\" is the blocking variable. This variable has\n",
        "to be the name of a column in ``dfA`` and ``dfB``. It is possible to\n",
        "parse a list of columns names to block on multiple variables. Blocking\n",
        "on multiple variables will reduce the number of record pairs even\n",
        "further.\n",
        "\n",
        "Another implemented indexing method is *Sorted Neighbourhood Indexing*\n",
        "(``recordlinkage.index.SortedNeighbourhood``). This method is very\n",
        "useful when there are many misspellings in the string were used for\n",
        "indexing. In fact, sorted neighbourhood indexing is a generalisation of\n",
        "blocking. See the documentation for details about sorted neighbourd\n",
        "indexing."
      ]
    },
    {
      "cell_type": "markdown",
      "id": "40d7089c",
      "metadata": {
        "id": "40d7089c"
      },
      "source": [
        "Compare records\n",
        "---------------\n",
        "\n",
        "Each record pair is a candidate match. To classify the candidate record\n",
        "pairs into matches and non-matches, compare the records on all\n",
        "attributes both records have in common. The ``recordlinkage`` module has\n",
        "a class named ``Compare``. This class is used to compare the records.\n",
        "The following code shows how to compare attributes."
      ]
    },
    {
      "cell_type": "code",
      "execution_count": null,
      "id": "f5df923b",
      "metadata": {
        "id": "f5df923b"
      },
      "outputs": [],
      "source": [
        "compare_cl = recordlinkage.Compare()\n",
        "\n",
        "compare_cl.string(\"name\", \"name\", method=\"jarowinkler\", threshold=0.85, label=\"name\")\n",
        "compare_cl.exact(\"id\", \"id\", label=\"id\")\n",
        "features = compare_cl.compute(candidate_links, dfA, dfB)"
      ]
    },
    {
      "cell_type": "markdown",
      "id": "2a5e0cff",
      "metadata": {
        "id": "2a5e0cff"
      },
      "source": [
        "The comparing of record pairs starts when the ``compute`` method is\n",
        "called. All attribute comparisons are stored in a DataFrame with\n",
        "horizontally the features and vertically the record pairs."
      ]
    },
    {
      "cell_type": "code",
      "execution_count": null,
      "id": "c9048853",
      "metadata": {
        "id": "c9048853",
        "outputId": "d63d14e5-620d-4c24-8f85-2e7a2d5e9c0f",
        "colab": {
          "base_uri": "https://localhost:8080/",
          "height": 49
        }
      },
      "outputs": [
        {
          "output_type": "execute_result",
          "data": {
            "text/plain": [
              "Empty DataFrame\n",
              "Columns: [name, id]\n",
              "Index: []"
            ],
            "text/html": [
              "\n",
              "  <div id=\"df-58600511-00e2-41f8-afb0-a76810c691e8\">\n",
              "    <div class=\"colab-df-container\">\n",
              "      <div>\n",
              "<style scoped>\n",
              "    .dataframe tbody tr th:only-of-type {\n",
              "        vertical-align: middle;\n",
              "    }\n",
              "\n",
              "    .dataframe tbody tr th {\n",
              "        vertical-align: top;\n",
              "    }\n",
              "\n",
              "    .dataframe thead th {\n",
              "        text-align: right;\n",
              "    }\n",
              "</style>\n",
              "<table border=\"1\" class=\"dataframe\">\n",
              "  <thead>\n",
              "    <tr style=\"text-align: right;\">\n",
              "      <th></th>\n",
              "      <th></th>\n",
              "      <th>name</th>\n",
              "      <th>id</th>\n",
              "    </tr>\n",
              "  </thead>\n",
              "  <tbody>\n",
              "  </tbody>\n",
              "</table>\n",
              "</div>\n",
              "      <button class=\"colab-df-convert\" onclick=\"convertToInteractive('df-58600511-00e2-41f8-afb0-a76810c691e8')\"\n",
              "              title=\"Convert this dataframe to an interactive table.\"\n",
              "              style=\"display:none;\">\n",
              "        \n",
              "  <svg xmlns=\"http://www.w3.org/2000/svg\" height=\"24px\"viewBox=\"0 0 24 24\"\n",
              "       width=\"24px\">\n",
              "    <path d=\"M0 0h24v24H0V0z\" fill=\"none\"/>\n",
              "    <path d=\"M18.56 5.44l.94 2.06.94-2.06 2.06-.94-2.06-.94-.94-2.06-.94 2.06-2.06.94zm-11 1L8.5 8.5l.94-2.06 2.06-.94-2.06-.94L8.5 2.5l-.94 2.06-2.06.94zm10 10l.94 2.06.94-2.06 2.06-.94-2.06-.94-.94-2.06-.94 2.06-2.06.94z\"/><path d=\"M17.41 7.96l-1.37-1.37c-.4-.4-.92-.59-1.43-.59-.52 0-1.04.2-1.43.59L10.3 9.45l-7.72 7.72c-.78.78-.78 2.05 0 2.83L4 21.41c.39.39.9.59 1.41.59.51 0 1.02-.2 1.41-.59l7.78-7.78 2.81-2.81c.8-.78.8-2.07 0-2.86zM5.41 20L4 18.59l7.72-7.72 1.47 1.35L5.41 20z\"/>\n",
              "  </svg>\n",
              "      </button>\n",
              "      \n",
              "  <style>\n",
              "    .colab-df-container {\n",
              "      display:flex;\n",
              "      flex-wrap:wrap;\n",
              "      gap: 12px;\n",
              "    }\n",
              "\n",
              "    .colab-df-convert {\n",
              "      background-color: #E8F0FE;\n",
              "      border: none;\n",
              "      border-radius: 50%;\n",
              "      cursor: pointer;\n",
              "      display: none;\n",
              "      fill: #1967D2;\n",
              "      height: 32px;\n",
              "      padding: 0 0 0 0;\n",
              "      width: 32px;\n",
              "    }\n",
              "\n",
              "    .colab-df-convert:hover {\n",
              "      background-color: #E2EBFA;\n",
              "      box-shadow: 0px 1px 2px rgba(60, 64, 67, 0.3), 0px 1px 3px 1px rgba(60, 64, 67, 0.15);\n",
              "      fill: #174EA6;\n",
              "    }\n",
              "\n",
              "    [theme=dark] .colab-df-convert {\n",
              "      background-color: #3B4455;\n",
              "      fill: #D2E3FC;\n",
              "    }\n",
              "\n",
              "    [theme=dark] .colab-df-convert:hover {\n",
              "      background-color: #434B5C;\n",
              "      box-shadow: 0px 1px 3px 1px rgba(0, 0, 0, 0.15);\n",
              "      filter: drop-shadow(0px 1px 2px rgba(0, 0, 0, 0.3));\n",
              "      fill: #FFFFFF;\n",
              "    }\n",
              "  </style>\n",
              "\n",
              "      <script>\n",
              "        const buttonEl =\n",
              "          document.querySelector('#df-58600511-00e2-41f8-afb0-a76810c691e8 button.colab-df-convert');\n",
              "        buttonEl.style.display =\n",
              "          google.colab.kernel.accessAllowed ? 'block' : 'none';\n",
              "\n",
              "        async function convertToInteractive(key) {\n",
              "          const element = document.querySelector('#df-58600511-00e2-41f8-afb0-a76810c691e8');\n",
              "          const dataTable =\n",
              "            await google.colab.kernel.invokeFunction('convertToInteractive',\n",
              "                                                     [key], {});\n",
              "          if (!dataTable) return;\n",
              "\n",
              "          const docLinkHtml = 'Like what you see? Visit the ' +\n",
              "            '<a target=\"_blank\" href=https://colab.research.google.com/notebooks/data_table.ipynb>data table notebook</a>'\n",
              "            + ' to learn more about interactive tables.';\n",
              "          element.innerHTML = '';\n",
              "          dataTable['output_type'] = 'display_data';\n",
              "          await google.colab.output.renderOutput(dataTable, element);\n",
              "          const docLink = document.createElement('div');\n",
              "          docLink.innerHTML = docLinkHtml;\n",
              "          element.appendChild(docLink);\n",
              "        }\n",
              "      </script>\n",
              "    </div>\n",
              "  </div>\n",
              "  "
            ]
          },
          "metadata": {},
          "execution_count": 76
        }
      ],
      "source": [
        "features"
      ]
    },
    {
      "cell_type": "code",
      "execution_count": null,
      "id": "b01cba37",
      "metadata": {
        "id": "b01cba37",
        "outputId": "bc66e424-7579-44b3-9764-e31b55a87d96",
        "colab": {
          "base_uri": "https://localhost:8080/",
          "height": 300
        }
      },
      "outputs": [
        {
          "output_type": "execute_result",
          "data": {
            "text/plain": [
              "       name   id\n",
              "count   0.0  0.0\n",
              "mean    NaN  NaN\n",
              "std     NaN  NaN\n",
              "min     NaN  NaN\n",
              "25%     NaN  NaN\n",
              "50%     NaN  NaN\n",
              "75%     NaN  NaN\n",
              "max     NaN  NaN"
            ],
            "text/html": [
              "\n",
              "  <div id=\"df-85287ad4-f7b7-401d-92d9-3c5b36797136\">\n",
              "    <div class=\"colab-df-container\">\n",
              "      <div>\n",
              "<style scoped>\n",
              "    .dataframe tbody tr th:only-of-type {\n",
              "        vertical-align: middle;\n",
              "    }\n",
              "\n",
              "    .dataframe tbody tr th {\n",
              "        vertical-align: top;\n",
              "    }\n",
              "\n",
              "    .dataframe thead th {\n",
              "        text-align: right;\n",
              "    }\n",
              "</style>\n",
              "<table border=\"1\" class=\"dataframe\">\n",
              "  <thead>\n",
              "    <tr style=\"text-align: right;\">\n",
              "      <th></th>\n",
              "      <th>name</th>\n",
              "      <th>id</th>\n",
              "    </tr>\n",
              "  </thead>\n",
              "  <tbody>\n",
              "    <tr>\n",
              "      <th>count</th>\n",
              "      <td>0.0</td>\n",
              "      <td>0.0</td>\n",
              "    </tr>\n",
              "    <tr>\n",
              "      <th>mean</th>\n",
              "      <td>NaN</td>\n",
              "      <td>NaN</td>\n",
              "    </tr>\n",
              "    <tr>\n",
              "      <th>std</th>\n",
              "      <td>NaN</td>\n",
              "      <td>NaN</td>\n",
              "    </tr>\n",
              "    <tr>\n",
              "      <th>min</th>\n",
              "      <td>NaN</td>\n",
              "      <td>NaN</td>\n",
              "    </tr>\n",
              "    <tr>\n",
              "      <th>25%</th>\n",
              "      <td>NaN</td>\n",
              "      <td>NaN</td>\n",
              "    </tr>\n",
              "    <tr>\n",
              "      <th>50%</th>\n",
              "      <td>NaN</td>\n",
              "      <td>NaN</td>\n",
              "    </tr>\n",
              "    <tr>\n",
              "      <th>75%</th>\n",
              "      <td>NaN</td>\n",
              "      <td>NaN</td>\n",
              "    </tr>\n",
              "    <tr>\n",
              "      <th>max</th>\n",
              "      <td>NaN</td>\n",
              "      <td>NaN</td>\n",
              "    </tr>\n",
              "  </tbody>\n",
              "</table>\n",
              "</div>\n",
              "      <button class=\"colab-df-convert\" onclick=\"convertToInteractive('df-85287ad4-f7b7-401d-92d9-3c5b36797136')\"\n",
              "              title=\"Convert this dataframe to an interactive table.\"\n",
              "              style=\"display:none;\">\n",
              "        \n",
              "  <svg xmlns=\"http://www.w3.org/2000/svg\" height=\"24px\"viewBox=\"0 0 24 24\"\n",
              "       width=\"24px\">\n",
              "    <path d=\"M0 0h24v24H0V0z\" fill=\"none\"/>\n",
              "    <path d=\"M18.56 5.44l.94 2.06.94-2.06 2.06-.94-2.06-.94-.94-2.06-.94 2.06-2.06.94zm-11 1L8.5 8.5l.94-2.06 2.06-.94-2.06-.94L8.5 2.5l-.94 2.06-2.06.94zm10 10l.94 2.06.94-2.06 2.06-.94-2.06-.94-.94-2.06-.94 2.06-2.06.94z\"/><path d=\"M17.41 7.96l-1.37-1.37c-.4-.4-.92-.59-1.43-.59-.52 0-1.04.2-1.43.59L10.3 9.45l-7.72 7.72c-.78.78-.78 2.05 0 2.83L4 21.41c.39.39.9.59 1.41.59.51 0 1.02-.2 1.41-.59l7.78-7.78 2.81-2.81c.8-.78.8-2.07 0-2.86zM5.41 20L4 18.59l7.72-7.72 1.47 1.35L5.41 20z\"/>\n",
              "  </svg>\n",
              "      </button>\n",
              "      \n",
              "  <style>\n",
              "    .colab-df-container {\n",
              "      display:flex;\n",
              "      flex-wrap:wrap;\n",
              "      gap: 12px;\n",
              "    }\n",
              "\n",
              "    .colab-df-convert {\n",
              "      background-color: #E8F0FE;\n",
              "      border: none;\n",
              "      border-radius: 50%;\n",
              "      cursor: pointer;\n",
              "      display: none;\n",
              "      fill: #1967D2;\n",
              "      height: 32px;\n",
              "      padding: 0 0 0 0;\n",
              "      width: 32px;\n",
              "    }\n",
              "\n",
              "    .colab-df-convert:hover {\n",
              "      background-color: #E2EBFA;\n",
              "      box-shadow: 0px 1px 2px rgba(60, 64, 67, 0.3), 0px 1px 3px 1px rgba(60, 64, 67, 0.15);\n",
              "      fill: #174EA6;\n",
              "    }\n",
              "\n",
              "    [theme=dark] .colab-df-convert {\n",
              "      background-color: #3B4455;\n",
              "      fill: #D2E3FC;\n",
              "    }\n",
              "\n",
              "    [theme=dark] .colab-df-convert:hover {\n",
              "      background-color: #434B5C;\n",
              "      box-shadow: 0px 1px 3px 1px rgba(0, 0, 0, 0.15);\n",
              "      filter: drop-shadow(0px 1px 2px rgba(0, 0, 0, 0.3));\n",
              "      fill: #FFFFFF;\n",
              "    }\n",
              "  </style>\n",
              "\n",
              "      <script>\n",
              "        const buttonEl =\n",
              "          document.querySelector('#df-85287ad4-f7b7-401d-92d9-3c5b36797136 button.colab-df-convert');\n",
              "        buttonEl.style.display =\n",
              "          google.colab.kernel.accessAllowed ? 'block' : 'none';\n",
              "\n",
              "        async function convertToInteractive(key) {\n",
              "          const element = document.querySelector('#df-85287ad4-f7b7-401d-92d9-3c5b36797136');\n",
              "          const dataTable =\n",
              "            await google.colab.kernel.invokeFunction('convertToInteractive',\n",
              "                                                     [key], {});\n",
              "          if (!dataTable) return;\n",
              "\n",
              "          const docLinkHtml = 'Like what you see? Visit the ' +\n",
              "            '<a target=\"_blank\" href=https://colab.research.google.com/notebooks/data_table.ipynb>data table notebook</a>'\n",
              "            + ' to learn more about interactive tables.';\n",
              "          element.innerHTML = '';\n",
              "          dataTable['output_type'] = 'display_data';\n",
              "          await google.colab.output.renderOutput(dataTable, element);\n",
              "          const docLink = document.createElement('div');\n",
              "          docLink.innerHTML = docLinkHtml;\n",
              "          element.appendChild(docLink);\n",
              "        }\n",
              "      </script>\n",
              "    </div>\n",
              "  </div>\n",
              "  "
            ]
          },
          "metadata": {},
          "execution_count": 77
        }
      ],
      "source": [
        "features.describe()"
      ]
    },
    {
      "cell_type": "markdown",
      "id": "b4f0d758",
      "metadata": {
        "id": "b4f0d758"
      },
      "source": [
        "The last step is to decide which records belong to the same person. In\n",
        "this example, we keep it simple:"
      ]
    },
    {
      "cell_type": "code",
      "execution_count": null,
      "id": "866388f3",
      "metadata": {
        "id": "866388f3",
        "outputId": "fb76b990-03df-4a29-d0b9-8b4426a97021"
      },
      "outputs": [
        {
          "data": {
            "text/plain": [
              "6.0     1566\n",
              "5.0     1332\n",
              "4.0      343\n",
              "3.0      146\n",
              "2.0    16427\n",
              "1.0    57435\n",
              "dtype: int64"
            ]
          },
          "execution_count": 9,
          "metadata": {},
          "output_type": "execute_result"
        }
      ],
      "source": [
        "features.sum(axis=1).value_counts().sort_index(ascending=False)"
      ]
    },
    {
      "cell_type": "code",
      "execution_count": null,
      "id": "8d1d8027",
      "metadata": {
        "id": "8d1d8027",
        "outputId": "6c2acd40-38dc-40cf-d1d9-e3f10d87957c"
      },
      "outputs": [
        {
          "data": {
            "text/html": [
              "<div>\n",
              "<style scoped>\n",
              "    .dataframe tbody tr th:only-of-type {\n",
              "        vertical-align: middle;\n",
              "    }\n",
              "\n",
              "    .dataframe tbody tr th {\n",
              "        vertical-align: top;\n",
              "    }\n",
              "\n",
              "    .dataframe thead th {\n",
              "        text-align: right;\n",
              "    }\n",
              "</style>\n",
              "<table border=\"1\" class=\"dataframe\">\n",
              "  <thead>\n",
              "    <tr style=\"text-align: right;\">\n",
              "      <th></th>\n",
              "      <th></th>\n",
              "      <th>given_name</th>\n",
              "      <th>surname</th>\n",
              "      <th>date_of_birth</th>\n",
              "      <th>suburb</th>\n",
              "      <th>state</th>\n",
              "      <th>address_1</th>\n",
              "    </tr>\n",
              "    <tr>\n",
              "      <th>rec_id_1</th>\n",
              "      <th>rec_id_2</th>\n",
              "      <th></th>\n",
              "      <th></th>\n",
              "      <th></th>\n",
              "      <th></th>\n",
              "      <th></th>\n",
              "      <th></th>\n",
              "    </tr>\n",
              "  </thead>\n",
              "  <tbody>\n",
              "    <tr>\n",
              "      <th>rec-2371-org</th>\n",
              "      <th>rec-2371-dup-0</th>\n",
              "      <td>1</td>\n",
              "      <td>1.0</td>\n",
              "      <td>1</td>\n",
              "      <td>1</td>\n",
              "      <td>1</td>\n",
              "      <td>1.0</td>\n",
              "    </tr>\n",
              "    <tr>\n",
              "      <th>rec-3024-org</th>\n",
              "      <th>rec-3024-dup-0</th>\n",
              "      <td>1</td>\n",
              "      <td>1.0</td>\n",
              "      <td>1</td>\n",
              "      <td>0</td>\n",
              "      <td>1</td>\n",
              "      <td>0.0</td>\n",
              "    </tr>\n",
              "    <tr>\n",
              "      <th>rec-4652-org</th>\n",
              "      <th>rec-4652-dup-0</th>\n",
              "      <td>1</td>\n",
              "      <td>1.0</td>\n",
              "      <td>1</td>\n",
              "      <td>0</td>\n",
              "      <td>1</td>\n",
              "      <td>1.0</td>\n",
              "    </tr>\n",
              "    <tr>\n",
              "      <th>rec-4795-org</th>\n",
              "      <th>rec-4795-dup-0</th>\n",
              "      <td>1</td>\n",
              "      <td>1.0</td>\n",
              "      <td>1</td>\n",
              "      <td>1</td>\n",
              "      <td>1</td>\n",
              "      <td>1.0</td>\n",
              "    </tr>\n",
              "    <tr>\n",
              "      <th>rec-1016-org</th>\n",
              "      <th>rec-1016-dup-0</th>\n",
              "      <td>1</td>\n",
              "      <td>1.0</td>\n",
              "      <td>1</td>\n",
              "      <td>1</td>\n",
              "      <td>0</td>\n",
              "      <td>1.0</td>\n",
              "    </tr>\n",
              "    <tr>\n",
              "      <th>...</th>\n",
              "      <th>...</th>\n",
              "      <td>...</td>\n",
              "      <td>...</td>\n",
              "      <td>...</td>\n",
              "      <td>...</td>\n",
              "      <td>...</td>\n",
              "      <td>...</td>\n",
              "    </tr>\n",
              "    <tr>\n",
              "      <th>rec-4528-org</th>\n",
              "      <th>rec-4528-dup-0</th>\n",
              "      <td>1</td>\n",
              "      <td>1.0</td>\n",
              "      <td>1</td>\n",
              "      <td>1</td>\n",
              "      <td>1</td>\n",
              "      <td>1.0</td>\n",
              "    </tr>\n",
              "    <tr>\n",
              "      <th>rec-4887-org</th>\n",
              "      <th>rec-4887-dup-0</th>\n",
              "      <td>1</td>\n",
              "      <td>1.0</td>\n",
              "      <td>1</td>\n",
              "      <td>0</td>\n",
              "      <td>1</td>\n",
              "      <td>1.0</td>\n",
              "    </tr>\n",
              "    <tr>\n",
              "      <th>rec-4350-org</th>\n",
              "      <th>rec-4350-dup-0</th>\n",
              "      <td>1</td>\n",
              "      <td>1.0</td>\n",
              "      <td>1</td>\n",
              "      <td>1</td>\n",
              "      <td>1</td>\n",
              "      <td>1.0</td>\n",
              "    </tr>\n",
              "    <tr>\n",
              "      <th>rec-4569-org</th>\n",
              "      <th>rec-4569-dup-0</th>\n",
              "      <td>1</td>\n",
              "      <td>1.0</td>\n",
              "      <td>1</td>\n",
              "      <td>1</td>\n",
              "      <td>1</td>\n",
              "      <td>0.0</td>\n",
              "    </tr>\n",
              "    <tr>\n",
              "      <th>rec-3125-org</th>\n",
              "      <th>rec-3125-dup-0</th>\n",
              "      <td>1</td>\n",
              "      <td>1.0</td>\n",
              "      <td>1</td>\n",
              "      <td>0</td>\n",
              "      <td>1</td>\n",
              "      <td>1.0</td>\n",
              "    </tr>\n",
              "  </tbody>\n",
              "</table>\n",
              "<p>3241 rows × 6 columns</p>\n",
              "</div>"
            ],
            "text/plain": [
              "                             given_name  surname  date_of_birth  suburb  \\\n",
              "rec_id_1     rec_id_2                                                     \n",
              "rec-2371-org rec-2371-dup-0           1      1.0              1       1   \n",
              "rec-3024-org rec-3024-dup-0           1      1.0              1       0   \n",
              "rec-4652-org rec-4652-dup-0           1      1.0              1       0   \n",
              "rec-4795-org rec-4795-dup-0           1      1.0              1       1   \n",
              "rec-1016-org rec-1016-dup-0           1      1.0              1       1   \n",
              "...                                 ...      ...            ...     ...   \n",
              "rec-4528-org rec-4528-dup-0           1      1.0              1       1   \n",
              "rec-4887-org rec-4887-dup-0           1      1.0              1       0   \n",
              "rec-4350-org rec-4350-dup-0           1      1.0              1       1   \n",
              "rec-4569-org rec-4569-dup-0           1      1.0              1       1   \n",
              "rec-3125-org rec-3125-dup-0           1      1.0              1       0   \n",
              "\n",
              "                             state  address_1  \n",
              "rec_id_1     rec_id_2                          \n",
              "rec-2371-org rec-2371-dup-0      1        1.0  \n",
              "rec-3024-org rec-3024-dup-0      1        0.0  \n",
              "rec-4652-org rec-4652-dup-0      1        1.0  \n",
              "rec-4795-org rec-4795-dup-0      1        1.0  \n",
              "rec-1016-org rec-1016-dup-0      0        1.0  \n",
              "...                            ...        ...  \n",
              "rec-4528-org rec-4528-dup-0      1        1.0  \n",
              "rec-4887-org rec-4887-dup-0      1        1.0  \n",
              "rec-4350-org rec-4350-dup-0      1        1.0  \n",
              "rec-4569-org rec-4569-dup-0      1        0.0  \n",
              "rec-3125-org rec-3125-dup-0      1        1.0  \n",
              "\n",
              "[3241 rows x 6 columns]"
            ]
          },
          "execution_count": 10,
          "metadata": {},
          "output_type": "execute_result"
        }
      ],
      "source": [
        "features[features.sum(axis=1) > 3]"
      ]
    },
    {
      "cell_type": "markdown",
      "id": "fe7e75f1",
      "metadata": {
        "id": "fe7e75f1"
      },
      "source": [
        "Full code\n",
        "---------"
      ]
    },
    {
      "cell_type": "code",
      "execution_count": null,
      "id": "24a74dfe",
      "metadata": {
        "id": "24a74dfe",
        "outputId": "f0ebd9af-9bee-4a37-fee4-bb74988a5532"
      },
      "outputs": [
        {
          "name": "stdout",
          "output_type": "stream",
          "text": [
            "3241\n"
          ]
        }
      ],
      "source": [
        "import recordlinkage\n",
        "from recordlinkage.datasets import load_febrl4\n",
        "\n",
        "dfA, dfB = load_febrl4()\n",
        "\n",
        "# Indexation step\n",
        "indexer = recordlinkage.Index()\n",
        "indexer.block(\"given_name\")\n",
        "candidate_links = indexer.index(dfA, dfB)\n",
        "\n",
        "# Comparison step\n",
        "compare_cl = recordlinkage.Compare()\n",
        "\n",
        "compare_cl.exact(\"given_name\", \"given_name\", label=\"given_name\")\n",
        "compare_cl.string(\"surname\", \"surname\", method=\"jarowinkler\", threshold=0.85, label=\"surname\")\n",
        "compare_cl.exact(\"date_of_birth\", \"date_of_birth\", label=\"date_of_birth\")\n",
        "compare_cl.exact(\"suburb\", \"suburb\", label=\"suburb\")\n",
        "compare_cl.exact(\"state\", \"state\", label=\"state\")\n",
        "compare_cl.string(\"address_1\", \"address_1\", threshold=0.85, label=\"address_1\")\n",
        "\n",
        "features = compare_cl.compute(candidate_links, dfA, dfB)\n",
        "\n",
        "# Classification step\n",
        "matches = features[features.sum(axis=1) > 3]\n",
        "print(len(matches))"
      ]
    }
  ],
  "metadata": {
    "kernelspec": {
      "display_name": "Python 3 (ipykernel)",
      "language": "python",
      "name": "python3"
    },
    "language_info": {
      "codemirror_mode": {
        "name": "ipython",
        "version": 3
      },
      "file_extension": ".py",
      "mimetype": "text/x-python",
      "name": "python",
      "nbconvert_exporter": "python",
      "pygments_lexer": "ipython3",
      "version": "3.10.4"
    },
    "colab": {
      "name": "bundikirimi03@gmail.com.ipynb",
      "provenance": []
    }
  },
  "nbformat": 4,
  "nbformat_minor": 5
}